{
  "nbformat": 4,
  "nbformat_minor": 0,
  "metadata": {
    "colab": {
      "provenance": [],
      "toc_visible": true
    },
    "kernelspec": {
      "name": "python3",
      "display_name": "Python 3"
    },
    "accelerator": "GPU"
  },
  "cells": [
    {
      "cell_type": "code",
      "metadata": {
        "id": "RUGPxYsQPn6Y"
      },
      "source": [],
      "execution_count": null,
      "outputs": []
    },
    {
      "cell_type": "code",
      "metadata": {
        "id": "gfDuh8UYebVt",
        "outputId": "37491536-c147-4688-b3fc-6dffd563ba5a",
        "colab": {
          "base_uri": "https://localhost:8080/",
          "height": 80
        }
      },
      "source": [
        "# Ignore future warning\n",
        "import warnings\n",
        "warnings.filterwarnings(\"ignore\", category=FutureWarning)\n",
        "\n",
        "import pandas as pd ## to read csv as panda dataframe\n",
        "from collections import Counter ## to count class label\n",
        "\n",
        "# Scikit learn modules\n",
        "from sklearn.model_selection import train_test_split ## for spliting dataset into train and test set\n",
        "from sklearn.preprocessing import LabelEncoder\n",
        "from sklearn.metrics import confusion_matrix, classification_report\n",
        "import itertools\n",
        "\n",
        "# gensim model for word2vec\n",
        "from gensim.models.word2vec import Word2Vec\n",
        "\n",
        "# keras models\n",
        "from keras.preprocessing.text import Tokenizer\n",
        "from keras.preprocessing.sequence import pad_sequences\n",
        "# pad_sequences is used to ensure that all sequences in a list have the same length.\n",
        "# By default this is done by padding 0 in the beginning of each sequence until each\n",
        "# sequence has the same length as the longest sequence.\n",
        "\n",
        "from keras.layers import Embedding, Dropout, LSTM, Dense\n",
        "from keras.models import Sequential\n",
        "from keras.callbacks import ReduceLROnPlateau, EarlyStopping\n",
        "\n",
        "\n",
        "# Matplotlib modules for making plot\n",
        "import matplotlib.pyplot as plt\n",
        "%matplotlib inline\n",
        "\n",
        "\n",
        "# Set log\n",
        "import logging\n",
        "logging.basicConfig(format='%(asctime)s : %(levelname)s : %(message)s', level=logging.INFO)\n",
        "\n",
        "\n",
        "# others for utility\n",
        "import numpy as np\n",
        "import time\n"
      ],
      "execution_count": null,
      "outputs": [
        {
          "output_type": "stream",
          "text": [
            "Using TensorFlow backend.\n"
          ],
          "name": "stderr"
        },
        {
          "output_type": "display_data",
          "data": {
            "text/html": [
              "<p style=\"color: red;\">\n",
              "The default version of TensorFlow in Colab will soon switch to TensorFlow 2.x.<br>\n",
              "We recommend you <a href=\"https://www.tensorflow.org/guide/migrate\" target=\"_blank\">upgrade</a> now \n",
              "or ensure your notebook will continue to use TensorFlow 1.x via the <code>%tensorflow_version 1.x</code> magic:\n",
              "<a href=\"https://colab.research.google.com/notebooks/tensorflow_version.ipynb\" target=\"_blank\">more info</a>.</p>\n"
            ],
            "text/plain": [
              "<IPython.core.display.HTML object>"
            ]
          },
          "metadata": {
            "tags": []
          }
        }
      ]
    },
    {
      "cell_type": "code",
      "metadata": {
        "id": "-sZTDGcOQUzI"
      },
      "source": [],
      "execution_count": null,
      "outputs": []
    },
    {
      "cell_type": "code",
      "metadata": {
        "id": "t6t9YxsXebVx"
      },
      "source": [
        "# DATASET\n",
        "DATASET_COLUMNS = [\"bangla_text\", \"target\"]\n",
        "DATASET_ENCODING = \"utf8\"\n",
        "TRAIN_SIZE = 0.8\n",
        "\n",
        "\n",
        "# FOR CLEANING DATASET\n",
        "# DATA CLEAN KORTECHINA APATOTO\n",
        "# TODO CLEAN DATASET\n",
        "TEXT_CLEANING_RE = \"@\\S+|https?:\\S+|http?:\\S|[^A-Za-z0-9]+\"\n",
        "\n",
        "\n",
        "\n",
        "# WORD 2 VEC\n",
        "W2V_SIZE = 100 # chnage the value and see the output\n",
        "W2V_WINDOW = 3 # chnage the value and see the output => Max length of the sentence is __. Try __ as window\n",
        "W2V_MIN_COUNT = 3 # Try 5 for min_count\n",
        "W2V_WORKERS = 10\n",
        "W2V_SG = 1 # 1 if I want skip gram, ) for CBOW\n",
        "W2V_CBOW = 0\n",
        "W2V_ITER = 100\n",
        "W2V_EPOCH = 40 # See Results of each epoch: if accuracy increases then increase number_of_epochs otherwise decrease\n",
        "\n",
        "\n",
        "# For KERAS\n",
        "SEQUENCE_LENGTH = 50 # 400 chilo\n",
        "EPOCHS = 100\n",
        "BATCH_SIZE = 1024\n",
        "\n",
        "# SENTIMENT\n",
        "# SENTIMENT_THRESHOLDS = (0.4, 0.7)\n",
        "SENTIMENT_THRESHOLDS = (0.0, 0.7)\n"
      ],
      "execution_count": null,
      "outputs": []
    },
    {
      "cell_type": "markdown",
      "metadata": {
        "id": "9CTlfPjMJOmR"
      },
      "source": [
        "# Results Based on Word2Vec and Pad Sequence\n",
        "\n",
        "### 1. When: I'm getting maximum acccuracy\n",
        "    **For Word2Vec**\n",
        "    W2V_SIZE = 100\n",
        "    W2V_WINDOW = 3\n",
        "    W2V_MIN_COUNT = 3\n",
        "    W2V_WORKERS = 20\n",
        "    W2V_SG = 1\n",
        "    W2V_CBOW = 0\n",
        "    W2V_ITER = 100\n",
        "    W2V_EPOCH = 40\n",
        "\n",
        "\n",
        "    **For KERAS**\n",
        "    SEQUENCE_LENGTH = 100 # 400 chilo\n",
        "    EPOCHS = 100\n",
        "    BATCH_SIZE = 1024"
      ]
    },
    {
      "cell_type": "code",
      "metadata": {
        "id": "SUgF70eeQaaX",
        "outputId": "6d2e20f6-b0ee-42d9-a6c0-70ad1bb56ad5",
        "colab": {
          "base_uri": "https://localhost:8080/",
          "height": 54
        }
      },
      "source": [
        "from google.colab import drive\n",
        "\n",
        "drive.mount('/content/drive')"
      ],
      "execution_count": null,
      "outputs": [
        {
          "output_type": "stream",
          "text": [
            "Drive already mounted at /content/drive; to attempt to forcibly remount, call drive.mount(\"/content/drive\", force_remount=True).\n"
          ],
          "name": "stdout"
        }
      ]
    },
    {
      "cell_type": "code",
      "metadata": {
        "id": "jbUcMMfKREgn"
      },
      "source": [
        "dataset_path = \"/content/drive/My Drive/Thesis/dataset/Our Datasets/CSV/ex_an_hap_Dataset_exc_ang_hap.csv\""
      ],
      "execution_count": null,
      "outputs": []
    },
    {
      "cell_type": "code",
      "metadata": {
        "id": "tcvtFt5wQc0t"
      },
      "source": [
        "\n",
        "# df = pd.read_csv(directory+file_name, encoding = DATASET_ENCODING, names = DATASET_COLUMNS)\n",
        "\n",
        "df = pd.read_csv(dataset_path, encoding = DATASET_ENCODING, names = DATASET_COLUMNS)"
      ],
      "execution_count": null,
      "outputs": []
    },
    {
      "cell_type": "code",
      "metadata": {
        "id": "QmW9PapLQe1V",
        "outputId": "d7c9e5dc-63e1-421c-bad3-336320d02234",
        "colab": {
          "base_uri": "https://localhost:8080/",
          "height": 359
        }
      },
      "source": [
        "df.head(10)"
      ],
      "execution_count": null,
      "outputs": [
        {
          "output_type": "execute_result",
          "data": {
            "text/html": [
              "<div>\n",
              "<style scoped>\n",
              "    .dataframe tbody tr th:only-of-type {\n",
              "        vertical-align: middle;\n",
              "    }\n",
              "\n",
              "    .dataframe tbody tr th {\n",
              "        vertical-align: top;\n",
              "    }\n",
              "\n",
              "    .dataframe thead th {\n",
              "        text-align: right;\n",
              "    }\n",
              "</style>\n",
              "<table border=\"1\" class=\"dataframe\">\n",
              "  <thead>\n",
              "    <tr style=\"text-align: right;\">\n",
              "      <th></th>\n",
              "      <th>bangla_text</th>\n",
              "      <th>target</th>\n",
              "    </tr>\n",
              "  </thead>\n",
              "  <tbody>\n",
              "    <tr>\n",
              "      <th>0</th>\n",
              "      <td>সে পড়াশোনা নিয়ে আনন্দিত</td>\n",
              "      <td>excited</td>\n",
              "    </tr>\n",
              "    <tr>\n",
              "      <th>1</th>\n",
              "      <td>তার গল্প পত্রিকায় প্রকাশিত হয়েছে</td>\n",
              "      <td>excited</td>\n",
              "    </tr>\n",
              "    <tr>\n",
              "      <th>2</th>\n",
              "      <td>সে নিজেকে নিয়ে আনন্দিত</td>\n",
              "      <td>excited</td>\n",
              "    </tr>\n",
              "    <tr>\n",
              "      <th>3</th>\n",
              "      <td>শেষ ভালো যার সব ভালো তার</td>\n",
              "      <td>excited</td>\n",
              "    </tr>\n",
              "    <tr>\n",
              "      <th>4</th>\n",
              "      <td>সে তার ভুল গুলো নিয়ে ভয় করছে</td>\n",
              "      <td>excited</td>\n",
              "    </tr>\n",
              "    <tr>\n",
              "      <th>5</th>\n",
              "      <td>কতদিন পর এত আনন্দ করেছি</td>\n",
              "      <td>excited</td>\n",
              "    </tr>\n",
              "    <tr>\n",
              "      <th>6</th>\n",
              "      <td>বহুকাল পর এত আনন্দ করেছি</td>\n",
              "      <td>excited</td>\n",
              "    </tr>\n",
              "    <tr>\n",
              "      <th>7</th>\n",
              "      <td>বহুকাল ধরিয়া এত আনন্দ হয় নি আজ যত আনন্দ করেছি</td>\n",
              "      <td>excited</td>\n",
              "    </tr>\n",
              "    <tr>\n",
              "      <th>8</th>\n",
              "      <td>প্রতিদিন তার এভাবে পাশে থাকা আমার আনন্দ বাড়িয়ে...</td>\n",
              "      <td>excited</td>\n",
              "    </tr>\n",
              "    <tr>\n",
              "      <th>9</th>\n",
              "      <td>সে রেগে বেশিক্ষন চুপ করে থাকেনা</td>\n",
              "      <td>excited</td>\n",
              "    </tr>\n",
              "  </tbody>\n",
              "</table>\n",
              "</div>"
            ],
            "text/plain": [
              "                                         bangla_text   target\n",
              "0                            সে পড়াশোনা নিয়ে আনন্দিত  excited\n",
              "1                   তার গল্প পত্রিকায় প্রকাশিত হয়েছে  excited\n",
              "2                             সে নিজেকে নিয়ে আনন্দিত  excited\n",
              "3                           শেষ ভালো যার সব ভালো তার  excited\n",
              "4                       সে তার ভুল গুলো নিয়ে ভয় করছে  excited\n",
              "5                            কতদিন পর এত আনন্দ করেছি  excited\n",
              "6                           বহুকাল পর এত আনন্দ করেছি  excited\n",
              "7     বহুকাল ধরিয়া এত আনন্দ হয় নি আজ যত আনন্দ করেছি  excited\n",
              "8  প্রতিদিন তার এভাবে পাশে থাকা আমার আনন্দ বাড়িয়ে...  excited\n",
              "9                    সে রেগে বেশিক্ষন চুপ করে থাকেনা  excited"
            ]
          },
          "metadata": {
            "tags": []
          },
          "execution_count": 6
        }
      ]
    },
    {
      "cell_type": "code",
      "metadata": {
        "id": "uRP1UJ6AQg1t"
      },
      "source": [
        "# df = df.drop(columns=[\"nan\"], axis=1)"
      ],
      "execution_count": null,
      "outputs": []
    },
    {
      "cell_type": "code",
      "metadata": {
        "id": "blQn-mRLR--f",
        "outputId": "91f544af-21fd-4821-cfed-8ac2f817843a",
        "colab": {
          "base_uri": "https://localhost:8080/",
          "height": 204
        }
      },
      "source": [
        "df.head()"
      ],
      "execution_count": null,
      "outputs": [
        {
          "output_type": "execute_result",
          "data": {
            "text/html": [
              "<div>\n",
              "<style scoped>\n",
              "    .dataframe tbody tr th:only-of-type {\n",
              "        vertical-align: middle;\n",
              "    }\n",
              "\n",
              "    .dataframe tbody tr th {\n",
              "        vertical-align: top;\n",
              "    }\n",
              "\n",
              "    .dataframe thead th {\n",
              "        text-align: right;\n",
              "    }\n",
              "</style>\n",
              "<table border=\"1\" class=\"dataframe\">\n",
              "  <thead>\n",
              "    <tr style=\"text-align: right;\">\n",
              "      <th></th>\n",
              "      <th>bangla_text</th>\n",
              "      <th>target</th>\n",
              "    </tr>\n",
              "  </thead>\n",
              "  <tbody>\n",
              "    <tr>\n",
              "      <th>0</th>\n",
              "      <td>সে পড়াশোনা নিয়ে আনন্দিত</td>\n",
              "      <td>excited</td>\n",
              "    </tr>\n",
              "    <tr>\n",
              "      <th>1</th>\n",
              "      <td>তার গল্প পত্রিকায় প্রকাশিত হয়েছে</td>\n",
              "      <td>excited</td>\n",
              "    </tr>\n",
              "    <tr>\n",
              "      <th>2</th>\n",
              "      <td>সে নিজেকে নিয়ে আনন্দিত</td>\n",
              "      <td>excited</td>\n",
              "    </tr>\n",
              "    <tr>\n",
              "      <th>3</th>\n",
              "      <td>শেষ ভালো যার সব ভালো তার</td>\n",
              "      <td>excited</td>\n",
              "    </tr>\n",
              "    <tr>\n",
              "      <th>4</th>\n",
              "      <td>সে তার ভুল গুলো নিয়ে ভয় করছে</td>\n",
              "      <td>excited</td>\n",
              "    </tr>\n",
              "  </tbody>\n",
              "</table>\n",
              "</div>"
            ],
            "text/plain": [
              "                        bangla_text   target\n",
              "0           সে পড়াশোনা নিয়ে আনন্দিত  excited\n",
              "1  তার গল্প পত্রিকায় প্রকাশিত হয়েছে  excited\n",
              "2            সে নিজেকে নিয়ে আনন্দিত  excited\n",
              "3          শেষ ভালো যার সব ভালো তার  excited\n",
              "4      সে তার ভুল গুলো নিয়ে ভয় করছে  excited"
            ]
          },
          "metadata": {
            "tags": []
          },
          "execution_count": 8
        }
      ]
    },
    {
      "cell_type": "code",
      "metadata": {
        "id": "yhKlB2NQSQ0G",
        "outputId": "0dad330d-41f7-4a44-af21-9a994d7600af",
        "colab": {
          "base_uri": "https://localhost:8080/",
          "height": 516
        }
      },
      "source": [
        "def dataset_destribution(df):\n",
        "  target_count = Counter(df.target)\n",
        "  plt.figure(figsize=(16,8))\n",
        "  plt.bar(target_count.keys(), target_count.values())\n",
        "  plt.title(\"Dataset Class Labels Distribuition\")\n",
        "  print(target_count)\n",
        "  plt.show()\n",
        "\n",
        "dataset_destribution(df)"
      ],
      "execution_count": null,
      "outputs": [
        {
          "output_type": "stream",
          "text": [
            "Counter({'excited': 2052, 'angry': 1683, 'happy': 608})\n"
          ],
          "name": "stdout"
        },
        {
          "output_type": "display_data",
          "data": {
            "image/png": "[encoded data removed]",
            "text/plain": [
              "<Figure size 1152x576 with 1 Axes>"
            ]
          },
          "metadata": {
            "tags": []
          }
        }
      ]
    },
    {
      "cell_type": "code",
      "metadata": {
        "id": "JIZdEkcfTReg",
        "outputId": "71fd2b31-1213-440c-e815-df6222c75df8",
        "colab": {
          "base_uri": "https://localhost:8080/",
          "height": 68
        }
      },
      "source": [
        "df_train, df_test = train_test_split(df, test_size= 1-TRAIN_SIZE, random_state = 42, shuffle = True)\n",
        "\n",
        "print(f\"WHOLE DATASET SIZE: {df.shape}\\nTRAIN SIZE: {len(df_train)}\\nTEST SIZE: {len(df_test)}\")"
      ],
      "execution_count": null,
      "outputs": [
        {
          "output_type": "stream",
          "text": [
            "WHOLE DATASET SIZE: (4343, 2)\n",
            "TRAIN SIZE: 3474\n",
            "TEST SIZE: 869\n"
          ],
          "name": "stdout"
        }
      ]
    },
    {
      "cell_type": "code",
      "metadata": {
        "id": "VXwgAFuW6ZsL",
        "outputId": "a943fb41-a54a-4cd1-b45c-ed264c1717fb",
        "colab": {
          "base_uri": "https://localhost:8080/",
          "height": 516
        }
      },
      "source": [
        "dataset_destribution(df_train)"
      ],
      "execution_count": null,
      "outputs": [
        {
          "output_type": "stream",
          "text": [
            "Counter({'excited': 1618, 'angry': 1366, 'happy': 490})\n"
          ],
          "name": "stdout"
        },
        {
          "output_type": "display_data",
          "data": {
            "image/png": "[encoded data removed]",
            "text/plain": [
              "<Figure size 1152x576 with 1 Axes>"
            ]
          },
          "metadata": {
            "tags": []
          }
        }
      ]
    },
    {
      "cell_type": "code",
      "metadata": {
        "id": "L1LsEKs76T-3",
        "outputId": "2d9165f9-1c6d-477e-acb1-cb98903a19f7",
        "colab": {
          "base_uri": "https://localhost:8080/",
          "height": 516
        }
      },
      "source": [
        "dataset_destribution(df_test)"
      ],
      "execution_count": null,
      "outputs": [
        {
          "output_type": "stream",
          "text": [
            "Counter({'excited': 434, 'angry': 317, 'happy': 118})\n"
          ],
          "name": "stdout"
        },
        {
          "output_type": "display_data",
          "data": {
            "image/png": "[encoded data removed]",
            "text/plain": [
              "<Figure size 1152x576 with 1 Axes>"
            ]
          },
          "metadata": {
            "tags": []
          }
        }
      ]
    },
    {
      "cell_type": "code",
      "metadata": {
        "id": "NFXy1aliTUg4",
        "outputId": "097e076e-e5a2-4045-a0e1-dd59d929ee30",
        "colab": {
          "base_uri": "https://localhost:8080/",
          "height": 68
        }
      },
      "source": [
        "%%time\n",
        "\n",
        "# splitting each word in train_set\n",
        "# documents = [_bangla_text.split() for _bangla_text in df_train.bangla_text] # shudhu train er upor na kore pura dataset er upor documnet banay dekhte hobe\n",
        "documents_sg = [_bangla_text.split() for _bangla_text in df.bangla_text]\n",
        "print(type(documents_sg))"
      ],
      "execution_count": null,
      "outputs": [
        {
          "output_type": "stream",
          "text": [
            "<class 'list'>\n",
            "CPU times: user 4.49 ms, sys: 62 µs, total: 4.55 ms\n",
            "Wall time: 5.04 ms\n"
          ],
          "name": "stdout"
        }
      ]
    },
    {
      "cell_type": "code",
      "metadata": {
        "id": "qNkePG68VafO",
        "outputId": "42d634fe-fba6-4d90-b384-0297a1405c46",
        "colab": {
          "base_uri": "https://localhost:8080/",
          "height": 51
        }
      },
      "source": [
        "%%time\n",
        "w2v_model_sg = Word2Vec(size=W2V_SIZE,\n",
        "                              window=W2V_WINDOW,\n",
        "                              min_count=W2V_MIN_COUNT,\n",
        "                              workers=W2V_WORKERS,\n",
        "                              sg=W2V_SG,\n",
        "                              iter=W2V_ITER)"
      ],
      "execution_count": null,
      "outputs": [
        {
          "output_type": "stream",
          "text": [
            "CPU times: user 580 µs, sys: 0 ns, total: 580 µs\n",
            "Wall time: 548 µs\n"
          ],
          "name": "stdout"
        }
      ]
    },
    {
      "cell_type": "code",
      "metadata": {
        "id": "z9WnE0cgVeDF",
        "outputId": "c677477f-a10b-42fc-c96c-78ed8069555e",
        "colab": {
          "base_uri": "https://localhost:8080/",
          "height": 204
        }
      },
      "source": [
        "w2v_model_sg.build_vocab(documents_sg) # skip gram"
      ],
      "execution_count": null,
      "outputs": [
        {
          "output_type": "stream",
          "text": [
            "2020-02-27 10:59:19,669 : INFO : collecting all words and their counts\n",
            "2020-02-27 10:59:19,671 : INFO : PROGRESS: at sentence #0, processed 0 words, keeping 0 word types\n",
            "2020-02-27 10:59:19,682 : INFO : collected 3703 word types from a corpus of 20104 raw words and 4343 sentences\n",
            "2020-02-27 10:59:19,683 : INFO : Loading a fresh vocabulary\n",
            "2020-02-27 10:59:19,690 : INFO : effective_min_count=3 retains 1333 unique words (35% of original 3703, drops 2370)\n",
            "2020-02-27 10:59:19,691 : INFO : effective_min_count=3 leaves 17180 word corpus (85% of original 20104, drops 2924)\n",
            "2020-02-27 10:59:19,706 : INFO : deleting the raw counts dictionary of 3703 items\n",
            "2020-02-27 10:59:19,707 : INFO : sample=0.001 downsamples 60 most-common words\n",
            "2020-02-27 10:59:19,708 : INFO : downsampling leaves estimated 13928 word corpus (81.1% of prior 17180)\n",
            "2020-02-27 10:59:19,713 : INFO : estimated required memory for 1333 words and 100 dimensions: 1732900 bytes\n",
            "2020-02-27 10:59:19,714 : INFO : resetting layer weights\n"
          ],
          "name": "stderr"
        }
      ]
    },
    {
      "cell_type": "code",
      "metadata": {
        "id": "jUguvL_PVhJM",
        "outputId": "f0b5420b-21ca-4e11-8c01-a3fce5a051f0",
        "colab": {
          "base_uri": "https://localhost:8080/",
          "height": 34
        }
      },
      "source": [
        "words_sg = w2v_model_sg.wv.vocab.keys()\n",
        "\n",
        "\n",
        "vocab_size_sg = len(words_sg)\n",
        "print(\"Skip Gram Vocabulary Size: \", vocab_size_sg)\n"
      ],
      "execution_count": null,
      "outputs": [
        {
          "output_type": "stream",
          "text": [
            "Skip Gram Vocabulary Size:  1333\n"
          ],
          "name": "stdout"
        }
      ]
    },
    {
      "cell_type": "code",
      "metadata": {
        "id": "pSeCBt3UVpXc",
        "outputId": "e2e7a95e-e390-42c8-914c-46ec9e381f4f",
        "colab": {
          "base_uri": "https://localhost:8080/",
          "height": 459
        }
      },
      "source": [
        "w2v_model_sg.wv['আগুন'] # will show the word \"মেয়েটি\" represented by W2V_SIZE weights"
      ],
      "execution_count": null,
      "outputs": [
        {
          "output_type": "execute_result",
          "data": {
            "text/plain": [
              "array([ 3.8705855e-03, -5.8608491e-04, -1.7608188e-03, -2.5680175e-03,\n",
              "        3.5757748e-03,  3.7984208e-03, -2.9038587e-03, -6.3146703e-04,\n",
              "       -2.3998271e-03, -2.2932976e-03,  4.1945549e-03,  1.6165127e-03,\n",
              "       -3.1781017e-03, -3.8239306e-03,  7.2320743e-04,  9.9928235e-05,\n",
              "       -3.8832061e-03,  1.2738799e-03, -4.6803276e-03, -1.4403249e-03,\n",
              "       -4.4505595e-04, -4.8085265e-03, -2.5115830e-03,  3.6779300e-05,\n",
              "        3.2611382e-03, -6.2166218e-04,  3.5460643e-03, -2.5409120e-03,\n",
              "        4.8876442e-03, -1.4942045e-03,  1.9487147e-03, -3.8692097e-03,\n",
              "       -4.1433843e-03,  1.7641123e-03, -1.2965292e-03,  4.8196130e-03,\n",
              "        7.2788459e-04, -1.2403808e-03, -3.8008275e-05,  3.7925076e-03,\n",
              "        2.5212714e-03,  1.8435520e-03,  2.1888316e-03,  4.2090015e-03,\n",
              "        4.2458116e-03, -1.4639074e-03,  2.1600223e-04, -3.4938217e-03,\n",
              "       -3.0741380e-03, -9.2612114e-04, -9.5244910e-04, -3.4125142e-03,\n",
              "        2.6188232e-03, -9.1728216e-06, -1.1218534e-03,  4.7362973e-03,\n",
              "        2.1544460e-03,  2.2853396e-03, -4.1838000e-03,  2.5870607e-03,\n",
              "        1.4121175e-03, -4.3199067e-03, -2.5541068e-03,  2.1705239e-03,\n",
              "        1.3472061e-03,  4.2511453e-03, -3.2125583e-03, -5.8594131e-04,\n",
              "       -7.0119288e-04, -2.2620799e-03,  3.8940902e-03, -2.8089550e-03,\n",
              "       -4.4907741e-03, -2.5580840e-03, -2.4658891e-03,  1.4148863e-03,\n",
              "       -2.3804454e-03, -1.6804484e-03, -2.7390507e-03,  1.0419099e-03,\n",
              "        2.7885104e-03, -4.3826257e-03, -3.1343480e-03,  1.8761511e-03,\n",
              "       -2.5100918e-03, -3.2705483e-03,  1.0989659e-03,  2.2198937e-03,\n",
              "        3.8011712e-03, -9.7568118e-04,  3.5471567e-03,  1.0576476e-03,\n",
              "       -2.6744506e-03,  7.5946300e-04, -1.4773870e-03,  2.8028716e-03,\n",
              "       -1.0649852e-03, -3.2233286e-03, -5.4576859e-04, -4.7776854e-04],\n",
              "      dtype=float32)"
            ]
          },
          "metadata": {
            "tags": []
          },
          "execution_count": 17
        }
      ]
    },
    {
      "cell_type": "code",
      "metadata": {
        "id": "u1OHxV_lVstj",
        "outputId": "39080612-75d5-4b21-b8d9-9e615f652820",
        "colab": {
          "base_uri": "https://localhost:8080/",
          "height": 204
        }
      },
      "source": [
        "w2v_model_sg.wv.most_similar(\"আগুন\") # most similar before making w2vec"
      ],
      "execution_count": null,
      "outputs": [
        {
          "output_type": "stream",
          "text": [
            "2020-02-27 10:59:19,992 : INFO : precomputing L2-norms of word weight vectors\n"
          ],
          "name": "stderr"
        },
        {
          "output_type": "execute_result",
          "data": {
            "text/plain": [
              "[('নরম', 0.29907625913619995),\n",
              " ('বাতাস', 0.2918718755245209),\n",
              " ('বিষয়', 0.29056617617607117),\n",
              " ('প্রতি', 0.28956934809684753),\n",
              " ('গোপন', 0.2695940136909485),\n",
              " ('অন্যদের', 0.2562375068664551),\n",
              " ('মানিয়েছে', 0.25505203008651733),\n",
              " ('পরচর্চা', 0.2431846559047699),\n",
              " ('কালনাগ', 0.24138286709785461),\n",
              " ('রাগের', 0.2396630346775055)]"
            ]
          },
          "metadata": {
            "tags": []
          },
          "execution_count": 18
        }
      ]
    },
    {
      "cell_type": "code",
      "metadata": {
        "id": "515gOv8pVyML",
        "outputId": "286dbb4f-e9df-456c-9b05-ea40e3f4454b",
        "colab": {
          "base_uri": "https://localhost:8080/",
          "height": 1000
        }
      },
      "source": [
        "%%time\n",
        "w2v_model_sg.train(documents_sg, total_examples=len(documents_sg), epochs=W2V_EPOCH)"
      ],
      "execution_count": null,
      "outputs": [
        {
          "output_type": "stream",
          "text": [
            "2020-02-27 10:59:20,010 : INFO : training model with 10 workers on 1333 vocabulary and 100 features, using sg=1 hs=0 sample=0.001 negative=5 window=3\n",
            "2020-02-27 10:59:20,073 : INFO : worker thread finished; awaiting finish of 9 more threads\n",
            "2020-02-27 10:59:20,075 : INFO : worker thread finished; awaiting finish of 8 more threads\n",
            "2020-02-27 10:59:20,076 : INFO : worker thread finished; awaiting finish of 7 more threads\n",
            "2020-02-27 10:59:20,077 : INFO : worker thread finished; awaiting finish of 6 more threads\n",
            "2020-02-27 10:59:20,078 : INFO : worker thread finished; awaiting finish of 5 more threads\n",
            "2020-02-27 10:59:20,079 : INFO : worker thread finished; awaiting finish of 4 more threads\n",
            "2020-02-27 10:59:20,080 : INFO : worker thread finished; awaiting finish of 3 more threads\n",
            "2020-02-27 10:59:20,082 : INFO : worker thread finished; awaiting finish of 2 more threads\n",
            "2020-02-27 10:59:20,102 : INFO : worker thread finished; awaiting finish of 1 more threads\n",
            "2020-02-27 10:59:20,122 : INFO : worker thread finished; awaiting finish of 0 more threads\n",
            "2020-02-27 10:59:20,123 : INFO : EPOCH - 1 : training on 20104 raw words (13973 effective words) took 0.1s, 223876 effective words/s\n",
            "2020-02-27 10:59:20,138 : INFO : worker thread finished; awaiting finish of 9 more threads\n",
            "2020-02-27 10:59:20,142 : INFO : worker thread finished; awaiting finish of 8 more threads\n",
            "2020-02-27 10:59:20,144 : INFO : worker thread finished; awaiting finish of 7 more threads\n",
            "2020-02-27 10:59:20,144 : INFO : worker thread finished; awaiting finish of 6 more threads\n",
            "2020-02-27 10:59:20,147 : INFO : worker thread finished; awaiting finish of 5 more threads\n",
            "2020-02-27 10:59:20,148 : INFO : worker thread finished; awaiting finish of 4 more threads\n",
            "2020-02-27 10:59:20,149 : INFO : worker thread finished; awaiting finish of 3 more threads\n",
            "2020-02-27 10:59:20,154 : INFO : worker thread finished; awaiting finish of 2 more threads\n",
            "2020-02-27 10:59:20,180 : INFO : worker thread finished; awaiting finish of 1 more threads\n",
            "2020-02-27 10:59:20,185 : INFO : worker thread finished; awaiting finish of 0 more threads\n",
            "2020-02-27 10:59:20,186 : INFO : EPOCH - 2 : training on 20104 raw words (13970 effective words) took 0.1s, 274365 effective words/s\n",
            "2020-02-27 10:59:20,199 : INFO : worker thread finished; awaiting finish of 9 more threads\n",
            "2020-02-27 10:59:20,206 : INFO : worker thread finished; awaiting finish of 8 more threads\n",
            "2020-02-27 10:59:20,207 : INFO : worker thread finished; awaiting finish of 7 more threads\n",
            "2020-02-27 10:59:20,208 : INFO : worker thread finished; awaiting finish of 6 more threads\n",
            "2020-02-27 10:59:20,210 : INFO : worker thread finished; awaiting finish of 5 more threads\n",
            "2020-02-27 10:59:20,211 : INFO : worker thread finished; awaiting finish of 4 more threads\n",
            "2020-02-27 10:59:20,214 : INFO : worker thread finished; awaiting finish of 3 more threads\n",
            "2020-02-27 10:59:20,220 : INFO : worker thread finished; awaiting finish of 2 more threads\n",
            "2020-02-27 10:59:20,242 : INFO : worker thread finished; awaiting finish of 1 more threads\n",
            "2020-02-27 10:59:20,247 : INFO : worker thread finished; awaiting finish of 0 more threads\n",
            "2020-02-27 10:59:20,249 : INFO : EPOCH - 3 : training on 20104 raw words (13997 effective words) took 0.1s, 269902 effective words/s\n",
            "2020-02-27 10:59:20,264 : INFO : worker thread finished; awaiting finish of 9 more threads\n",
            "2020-02-27 10:59:20,265 : INFO : worker thread finished; awaiting finish of 8 more threads\n",
            "2020-02-27 10:59:20,266 : INFO : worker thread finished; awaiting finish of 7 more threads\n",
            "2020-02-27 10:59:20,267 : INFO : worker thread finished; awaiting finish of 6 more threads\n",
            "2020-02-27 10:59:20,268 : INFO : worker thread finished; awaiting finish of 5 more threads\n",
            "2020-02-27 10:59:20,269 : INFO : worker thread finished; awaiting finish of 4 more threads\n",
            "2020-02-27 10:59:20,270 : INFO : worker thread finished; awaiting finish of 3 more threads\n",
            "2020-02-27 10:59:20,271 : INFO : worker thread finished; awaiting finish of 2 more threads\n",
            "2020-02-27 10:59:20,298 : INFO : worker thread finished; awaiting finish of 1 more threads\n",
            "2020-02-27 10:59:20,309 : INFO : worker thread finished; awaiting finish of 0 more threads\n",
            "2020-02-27 10:59:20,310 : INFO : EPOCH - 4 : training on 20104 raw words (13918 effective words) took 0.1s, 261734 effective words/s\n",
            "2020-02-27 10:59:20,331 : INFO : worker thread finished; awaiting finish of 9 more threads\n",
            "2020-02-27 10:59:20,332 : INFO : worker thread finished; awaiting finish of 8 more threads\n",
            "2020-02-27 10:59:20,332 : INFO : worker thread finished; awaiting finish of 7 more threads\n",
            "2020-02-27 10:59:20,334 : INFO : worker thread finished; awaiting finish of 6 more threads\n",
            "2020-02-27 10:59:20,335 : INFO : worker thread finished; awaiting finish of 5 more threads\n",
            "2020-02-27 10:59:20,336 : INFO : worker thread finished; awaiting finish of 4 more threads\n",
            "2020-02-27 10:59:20,337 : INFO : worker thread finished; awaiting finish of 3 more threads\n",
            "2020-02-27 10:59:20,341 : INFO : worker thread finished; awaiting finish of 2 more threads\n",
            "2020-02-27 10:59:20,372 : INFO : worker thread finished; awaiting finish of 1 more threads\n",
            "2020-02-27 10:59:20,378 : INFO : worker thread finished; awaiting finish of 0 more threads\n",
            "2020-02-27 10:59:20,379 : INFO : EPOCH - 5 : training on 20104 raw words (13898 effective words) took 0.1s, 246445 effective words/s\n",
            "2020-02-27 10:59:20,397 : INFO : worker thread finished; awaiting finish of 9 more threads\n",
            "2020-02-27 10:59:20,398 : INFO : worker thread finished; awaiting finish of 8 more threads\n",
            "2020-02-27 10:59:20,399 : INFO : worker thread finished; awaiting finish of 7 more threads\n",
            "2020-02-27 10:59:20,400 : INFO : worker thread finished; awaiting finish of 6 more threads\n",
            "2020-02-27 10:59:20,401 : INFO : worker thread finished; awaiting finish of 5 more threads\n",
            "2020-02-27 10:59:20,403 : INFO : worker thread finished; awaiting finish of 4 more threads\n",
            "2020-02-27 10:59:20,408 : INFO : worker thread finished; awaiting finish of 3 more threads\n",
            "2020-02-27 10:59:20,409 : INFO : worker thread finished; awaiting finish of 2 more threads\n",
            "2020-02-27 10:59:20,435 : INFO : worker thread finished; awaiting finish of 1 more threads\n",
            "2020-02-27 10:59:20,453 : INFO : worker thread finished; awaiting finish of 0 more threads\n",
            "2020-02-27 10:59:20,453 : INFO : EPOCH - 6 : training on 20104 raw words (13933 effective words) took 0.1s, 218584 effective words/s\n",
            "2020-02-27 10:59:20,469 : INFO : worker thread finished; awaiting finish of 9 more threads\n",
            "2020-02-27 10:59:20,471 : INFO : worker thread finished; awaiting finish of 8 more threads\n",
            "2020-02-27 10:59:20,472 : INFO : worker thread finished; awaiting finish of 7 more threads\n",
            "2020-02-27 10:59:20,474 : INFO : worker thread finished; awaiting finish of 6 more threads\n",
            "2020-02-27 10:59:20,478 : INFO : worker thread finished; awaiting finish of 5 more threads\n",
            "2020-02-27 10:59:20,481 : INFO : worker thread finished; awaiting finish of 4 more threads\n",
            "2020-02-27 10:59:20,486 : INFO : worker thread finished; awaiting finish of 3 more threads\n",
            "2020-02-27 10:59:20,487 : INFO : worker thread finished; awaiting finish of 2 more threads\n",
            "2020-02-27 10:59:20,512 : INFO : worker thread finished; awaiting finish of 1 more threads\n",
            "2020-02-27 10:59:20,519 : INFO : worker thread finished; awaiting finish of 0 more threads\n",
            "2020-02-27 10:59:20,520 : INFO : EPOCH - 7 : training on 20104 raw words (13981 effective words) took 0.1s, 255832 effective words/s\n",
            "2020-02-27 10:59:20,535 : INFO : worker thread finished; awaiting finish of 9 more threads\n",
            "2020-02-27 10:59:20,537 : INFO : worker thread finished; awaiting finish of 8 more threads\n",
            "2020-02-27 10:59:20,538 : INFO : worker thread finished; awaiting finish of 7 more threads\n",
            "2020-02-27 10:59:20,539 : INFO : worker thread finished; awaiting finish of 6 more threads\n",
            "2020-02-27 10:59:20,541 : INFO : worker thread finished; awaiting finish of 5 more threads\n",
            "2020-02-27 10:59:20,544 : INFO : worker thread finished; awaiting finish of 4 more threads\n",
            "2020-02-27 10:59:20,545 : INFO : worker thread finished; awaiting finish of 3 more threads\n",
            "2020-02-27 10:59:20,548 : INFO : worker thread finished; awaiting finish of 2 more threads\n",
            "2020-02-27 10:59:20,573 : INFO : worker thread finished; awaiting finish of 1 more threads\n",
            "2020-02-27 10:59:20,578 : INFO : worker thread finished; awaiting finish of 0 more threads\n",
            "2020-02-27 10:59:20,578 : INFO : EPOCH - 8 : training on 20104 raw words (13914 effective words) took 0.1s, 275289 effective words/s\n",
            "2020-02-27 10:59:20,601 : INFO : worker thread finished; awaiting finish of 9 more threads\n",
            "2020-02-27 10:59:20,603 : INFO : worker thread finished; awaiting finish of 8 more threads\n",
            "2020-02-27 10:59:20,604 : INFO : worker thread finished; awaiting finish of 7 more threads\n",
            "2020-02-27 10:59:20,605 : INFO : worker thread finished; awaiting finish of 6 more threads\n",
            "2020-02-27 10:59:20,607 : INFO : worker thread finished; awaiting finish of 5 more threads\n",
            "2020-02-27 10:59:20,609 : INFO : worker thread finished; awaiting finish of 4 more threads\n",
            "2020-02-27 10:59:20,614 : INFO : worker thread finished; awaiting finish of 3 more threads\n",
            "2020-02-27 10:59:20,615 : INFO : worker thread finished; awaiting finish of 2 more threads\n",
            "2020-02-27 10:59:20,639 : INFO : worker thread finished; awaiting finish of 1 more threads\n",
            "2020-02-27 10:59:20,645 : INFO : worker thread finished; awaiting finish of 0 more threads\n",
            "2020-02-27 10:59:20,646 : INFO : EPOCH - 9 : training on 20104 raw words (13935 effective words) took 0.1s, 264175 effective words/s\n",
            "2020-02-27 10:59:20,671 : INFO : worker thread finished; awaiting finish of 9 more threads\n",
            "2020-02-27 10:59:20,672 : INFO : worker thread finished; awaiting finish of 8 more threads\n",
            "2020-02-27 10:59:20,673 : INFO : worker thread finished; awaiting finish of 7 more threads\n",
            "2020-02-27 10:59:20,675 : INFO : worker thread finished; awaiting finish of 6 more threads\n",
            "2020-02-27 10:59:20,676 : INFO : worker thread finished; awaiting finish of 5 more threads\n",
            "2020-02-27 10:59:20,681 : INFO : worker thread finished; awaiting finish of 4 more threads\n",
            "2020-02-27 10:59:20,686 : INFO : worker thread finished; awaiting finish of 3 more threads\n",
            "2020-02-27 10:59:20,687 : INFO : worker thread finished; awaiting finish of 2 more threads\n",
            "2020-02-27 10:59:20,712 : INFO : worker thread finished; awaiting finish of 1 more threads\n",
            "2020-02-27 10:59:20,714 : INFO : worker thread finished; awaiting finish of 0 more threads\n",
            "2020-02-27 10:59:20,715 : INFO : EPOCH - 10 : training on 20104 raw words (13911 effective words) took 0.1s, 266583 effective words/s\n",
            "2020-02-27 10:59:20,734 : INFO : worker thread finished; awaiting finish of 9 more threads\n",
            "2020-02-27 10:59:20,738 : INFO : worker thread finished; awaiting finish of 8 more threads\n",
            "2020-02-27 10:59:20,740 : INFO : worker thread finished; awaiting finish of 7 more threads\n",
            "2020-02-27 10:59:20,741 : INFO : worker thread finished; awaiting finish of 6 more threads\n",
            "2020-02-27 10:59:20,742 : INFO : worker thread finished; awaiting finish of 5 more threads\n",
            "2020-02-27 10:59:20,743 : INFO : worker thread finished; awaiting finish of 4 more threads\n",
            "2020-02-27 10:59:20,747 : INFO : worker thread finished; awaiting finish of 3 more threads\n",
            "2020-02-27 10:59:20,750 : INFO : worker thread finished; awaiting finish of 2 more threads\n",
            "2020-02-27 10:59:20,774 : INFO : worker thread finished; awaiting finish of 1 more threads\n",
            "2020-02-27 10:59:20,789 : INFO : worker thread finished; awaiting finish of 0 more threads\n",
            "2020-02-27 10:59:20,790 : INFO : EPOCH - 11 : training on 20104 raw words (14016 effective words) took 0.1s, 229431 effective words/s\n",
            "2020-02-27 10:59:20,804 : INFO : worker thread finished; awaiting finish of 9 more threads\n",
            "2020-02-27 10:59:20,805 : INFO : worker thread finished; awaiting finish of 8 more threads\n",
            "2020-02-27 10:59:20,806 : INFO : worker thread finished; awaiting finish of 7 more threads\n",
            "2020-02-27 10:59:20,809 : INFO : worker thread finished; awaiting finish of 6 more threads\n",
            "2020-02-27 10:59:20,817 : INFO : worker thread finished; awaiting finish of 5 more threads\n",
            "2020-02-27 10:59:20,821 : INFO : worker thread finished; awaiting finish of 4 more threads\n",
            "2020-02-27 10:59:20,823 : INFO : worker thread finished; awaiting finish of 3 more threads\n",
            "2020-02-27 10:59:20,826 : INFO : worker thread finished; awaiting finish of 2 more threads\n",
            "2020-02-27 10:59:20,855 : INFO : worker thread finished; awaiting finish of 1 more threads\n",
            "2020-02-27 10:59:20,856 : INFO : worker thread finished; awaiting finish of 0 more threads\n",
            "2020-02-27 10:59:20,857 : INFO : EPOCH - 12 : training on 20104 raw words (13952 effective words) took 0.1s, 237624 effective words/s\n",
            "2020-02-27 10:59:20,875 : INFO : worker thread finished; awaiting finish of 9 more threads\n",
            "2020-02-27 10:59:20,877 : INFO : worker thread finished; awaiting finish of 8 more threads\n",
            "2020-02-27 10:59:20,878 : INFO : worker thread finished; awaiting finish of 7 more threads\n",
            "2020-02-27 10:59:20,879 : INFO : worker thread finished; awaiting finish of 6 more threads\n",
            "2020-02-27 10:59:20,879 : INFO : worker thread finished; awaiting finish of 5 more threads\n",
            "2020-02-27 10:59:20,880 : INFO : worker thread finished; awaiting finish of 4 more threads\n",
            "2020-02-27 10:59:20,883 : INFO : worker thread finished; awaiting finish of 3 more threads\n",
            "2020-02-27 10:59:20,884 : INFO : worker thread finished; awaiting finish of 2 more threads\n",
            "2020-02-27 10:59:20,902 : INFO : worker thread finished; awaiting finish of 1 more threads\n",
            "2020-02-27 10:59:20,912 : INFO : worker thread finished; awaiting finish of 0 more threads\n",
            "2020-02-27 10:59:20,913 : INFO : EPOCH - 13 : training on 20104 raw words (13936 effective words) took 0.0s, 308586 effective words/s\n",
            "2020-02-27 10:59:20,928 : INFO : worker thread finished; awaiting finish of 9 more threads\n",
            "2020-02-27 10:59:20,930 : INFO : worker thread finished; awaiting finish of 8 more threads\n",
            "2020-02-27 10:59:20,931 : INFO : worker thread finished; awaiting finish of 7 more threads\n",
            "2020-02-27 10:59:20,932 : INFO : worker thread finished; awaiting finish of 6 more threads\n",
            "2020-02-27 10:59:20,933 : INFO : worker thread finished; awaiting finish of 5 more threads\n",
            "2020-02-27 10:59:20,933 : INFO : worker thread finished; awaiting finish of 4 more threads\n",
            "2020-02-27 10:59:20,936 : INFO : worker thread finished; awaiting finish of 3 more threads\n",
            "2020-02-27 10:59:20,938 : INFO : worker thread finished; awaiting finish of 2 more threads\n",
            "2020-02-27 10:59:20,950 : INFO : worker thread finished; awaiting finish of 1 more threads\n",
            "2020-02-27 10:59:20,960 : INFO : worker thread finished; awaiting finish of 0 more threads\n",
            "2020-02-27 10:59:20,961 : INFO : EPOCH - 14 : training on 20104 raw words (13917 effective words) took 0.0s, 360274 effective words/s\n",
            "2020-02-27 10:59:20,980 : INFO : worker thread finished; awaiting finish of 9 more threads\n",
            "2020-02-27 10:59:20,986 : INFO : worker thread finished; awaiting finish of 8 more threads\n",
            "2020-02-27 10:59:20,987 : INFO : worker thread finished; awaiting finish of 7 more threads\n",
            "2020-02-27 10:59:20,988 : INFO : worker thread finished; awaiting finish of 6 more threads\n",
            "2020-02-27 10:59:20,990 : INFO : worker thread finished; awaiting finish of 5 more threads\n",
            "2020-02-27 10:59:20,990 : INFO : worker thread finished; awaiting finish of 4 more threads\n",
            "2020-02-27 10:59:20,991 : INFO : worker thread finished; awaiting finish of 3 more threads\n",
            "2020-02-27 10:59:20,993 : INFO : worker thread finished; awaiting finish of 2 more threads\n",
            "2020-02-27 10:59:21,009 : INFO : worker thread finished; awaiting finish of 1 more threads\n",
            "2020-02-27 10:59:21,018 : INFO : worker thread finished; awaiting finish of 0 more threads\n",
            "2020-02-27 10:59:21,019 : INFO : EPOCH - 15 : training on 20104 raw words (13989 effective words) took 0.0s, 321077 effective words/s\n",
            "2020-02-27 10:59:21,038 : INFO : worker thread finished; awaiting finish of 9 more threads\n",
            "2020-02-27 10:59:21,039 : INFO : worker thread finished; awaiting finish of 8 more threads\n",
            "2020-02-27 10:59:21,040 : INFO : worker thread finished; awaiting finish of 7 more threads\n",
            "2020-02-27 10:59:21,041 : INFO : worker thread finished; awaiting finish of 6 more threads\n",
            "2020-02-27 10:59:21,042 : INFO : worker thread finished; awaiting finish of 5 more threads\n",
            "2020-02-27 10:59:21,043 : INFO : worker thread finished; awaiting finish of 4 more threads\n",
            "2020-02-27 10:59:21,044 : INFO : worker thread finished; awaiting finish of 3 more threads\n",
            "2020-02-27 10:59:21,045 : INFO : worker thread finished; awaiting finish of 2 more threads\n",
            "2020-02-27 10:59:21,057 : INFO : worker thread finished; awaiting finish of 1 more threads\n",
            "2020-02-27 10:59:21,070 : INFO : worker thread finished; awaiting finish of 0 more threads\n",
            "2020-02-27 10:59:21,071 : INFO : EPOCH - 16 : training on 20104 raw words (13871 effective words) took 0.0s, 325404 effective words/s\n",
            "2020-02-27 10:59:21,085 : INFO : worker thread finished; awaiting finish of 9 more threads\n",
            "2020-02-27 10:59:21,085 : INFO : worker thread finished; awaiting finish of 8 more threads\n",
            "2020-02-27 10:59:21,086 : INFO : worker thread finished; awaiting finish of 7 more threads\n",
            "2020-02-27 10:59:21,087 : INFO : worker thread finished; awaiting finish of 6 more threads\n",
            "2020-02-27 10:59:21,088 : INFO : worker thread finished; awaiting finish of 5 more threads\n",
            "2020-02-27 10:59:21,089 : INFO : worker thread finished; awaiting finish of 4 more threads\n",
            "2020-02-27 10:59:21,090 : INFO : worker thread finished; awaiting finish of 3 more threads\n",
            "2020-02-27 10:59:21,094 : INFO : worker thread finished; awaiting finish of 2 more threads\n",
            "2020-02-27 10:59:21,122 : INFO : worker thread finished; awaiting finish of 1 more threads\n",
            "2020-02-27 10:59:21,135 : INFO : worker thread finished; awaiting finish of 0 more threads\n",
            "2020-02-27 10:59:21,137 : INFO : EPOCH - 17 : training on 20104 raw words (13897 effective words) took 0.1s, 241933 effective words/s\n",
            "2020-02-27 10:59:21,151 : INFO : worker thread finished; awaiting finish of 9 more threads\n",
            "2020-02-27 10:59:21,152 : INFO : worker thread finished; awaiting finish of 8 more threads\n",
            "2020-02-27 10:59:21,153 : INFO : worker thread finished; awaiting finish of 7 more threads\n",
            "2020-02-27 10:59:21,154 : INFO : worker thread finished; awaiting finish of 6 more threads\n",
            "2020-02-27 10:59:21,155 : INFO : worker thread finished; awaiting finish of 5 more threads\n",
            "2020-02-27 10:59:21,157 : INFO : worker thread finished; awaiting finish of 4 more threads\n",
            "2020-02-27 10:59:21,158 : INFO : worker thread finished; awaiting finish of 3 more threads\n",
            "2020-02-27 10:59:21,161 : INFO : worker thread finished; awaiting finish of 2 more threads\n",
            "2020-02-27 10:59:21,181 : INFO : worker thread finished; awaiting finish of 1 more threads\n",
            "2020-02-27 10:59:21,189 : INFO : worker thread finished; awaiting finish of 0 more threads\n",
            "2020-02-27 10:59:21,189 : INFO : EPOCH - 18 : training on 20104 raw words (13879 effective words) took 0.0s, 319727 effective words/s\n",
            "2020-02-27 10:59:21,202 : INFO : worker thread finished; awaiting finish of 9 more threads\n",
            "2020-02-27 10:59:21,209 : INFO : worker thread finished; awaiting finish of 8 more threads\n",
            "2020-02-27 10:59:21,210 : INFO : worker thread finished; awaiting finish of 7 more threads\n",
            "2020-02-27 10:59:21,211 : INFO : worker thread finished; awaiting finish of 6 more threads\n",
            "2020-02-27 10:59:21,212 : INFO : worker thread finished; awaiting finish of 5 more threads\n",
            "2020-02-27 10:59:21,213 : INFO : worker thread finished; awaiting finish of 4 more threads\n",
            "2020-02-27 10:59:21,217 : INFO : worker thread finished; awaiting finish of 3 more threads\n",
            "2020-02-27 10:59:21,221 : INFO : worker thread finished; awaiting finish of 2 more threads\n",
            "2020-02-27 10:59:21,238 : INFO : worker thread finished; awaiting finish of 1 more threads\n",
            "2020-02-27 10:59:21,239 : INFO : worker thread finished; awaiting finish of 0 more threads\n",
            "2020-02-27 10:59:21,241 : INFO : EPOCH - 19 : training on 20104 raw words (14003 effective words) took 0.0s, 341317 effective words/s\n",
            "2020-02-27 10:59:21,258 : INFO : worker thread finished; awaiting finish of 9 more threads\n",
            "2020-02-27 10:59:21,261 : INFO : worker thread finished; awaiting finish of 8 more threads\n",
            "2020-02-27 10:59:21,262 : INFO : worker thread finished; awaiting finish of 7 more threads\n",
            "2020-02-27 10:59:21,263 : INFO : worker thread finished; awaiting finish of 6 more threads\n",
            "2020-02-27 10:59:21,264 : INFO : worker thread finished; awaiting finish of 5 more threads\n",
            "2020-02-27 10:59:21,265 : INFO : worker thread finished; awaiting finish of 4 more threads\n",
            "2020-02-27 10:59:21,266 : INFO : worker thread finished; awaiting finish of 3 more threads\n",
            "2020-02-27 10:59:21,267 : INFO : worker thread finished; awaiting finish of 2 more threads\n",
            "2020-02-27 10:59:21,284 : INFO : worker thread finished; awaiting finish of 1 more threads\n",
            "2020-02-27 10:59:21,294 : INFO : worker thread finished; awaiting finish of 0 more threads\n",
            "2020-02-27 10:59:21,295 : INFO : EPOCH - 20 : training on 20104 raw words (13901 effective words) took 0.0s, 331539 effective words/s\n",
            "2020-02-27 10:59:21,309 : INFO : worker thread finished; awaiting finish of 9 more threads\n",
            "2020-02-27 10:59:21,310 : INFO : worker thread finished; awaiting finish of 8 more threads\n",
            "2020-02-27 10:59:21,311 : INFO : worker thread finished; awaiting finish of 7 more threads\n",
            "2020-02-27 10:59:21,311 : INFO : worker thread finished; awaiting finish of 6 more threads\n",
            "2020-02-27 10:59:21,312 : INFO : worker thread finished; awaiting finish of 5 more threads\n",
            "2020-02-27 10:59:21,313 : INFO : worker thread finished; awaiting finish of 4 more threads\n",
            "2020-02-27 10:59:21,313 : INFO : worker thread finished; awaiting finish of 3 more threads\n",
            "2020-02-27 10:59:21,316 : INFO : worker thread finished; awaiting finish of 2 more threads\n",
            "2020-02-27 10:59:21,327 : INFO : worker thread finished; awaiting finish of 1 more threads\n",
            "2020-02-27 10:59:21,350 : INFO : worker thread finished; awaiting finish of 0 more threads\n",
            "2020-02-27 10:59:21,351 : INFO : EPOCH - 21 : training on 20104 raw words (13891 effective words) took 0.0s, 292069 effective words/s\n",
            "2020-02-27 10:59:21,365 : INFO : worker thread finished; awaiting finish of 9 more threads\n",
            "2020-02-27 10:59:21,368 : INFO : worker thread finished; awaiting finish of 8 more threads\n",
            "2020-02-27 10:59:21,369 : INFO : worker thread finished; awaiting finish of 7 more threads\n",
            "2020-02-27 10:59:21,371 : INFO : worker thread finished; awaiting finish of 6 more threads\n",
            "2020-02-27 10:59:21,372 : INFO : worker thread finished; awaiting finish of 5 more threads\n",
            "2020-02-27 10:59:21,373 : INFO : worker thread finished; awaiting finish of 4 more threads\n",
            "2020-02-27 10:59:21,375 : INFO : worker thread finished; awaiting finish of 3 more threads\n",
            "2020-02-27 10:59:21,376 : INFO : worker thread finished; awaiting finish of 2 more threads\n",
            "2020-02-27 10:59:21,395 : INFO : worker thread finished; awaiting finish of 1 more threads\n",
            "2020-02-27 10:59:21,406 : INFO : worker thread finished; awaiting finish of 0 more threads\n",
            "2020-02-27 10:59:21,406 : INFO : EPOCH - 22 : training on 20104 raw words (13938 effective words) took 0.0s, 294330 effective words/s\n",
            "2020-02-27 10:59:21,420 : INFO : worker thread finished; awaiting finish of 9 more threads\n",
            "2020-02-27 10:59:21,421 : INFO : worker thread finished; awaiting finish of 8 more threads\n",
            "2020-02-27 10:59:21,426 : INFO : worker thread finished; awaiting finish of 7 more threads\n",
            "2020-02-27 10:59:21,427 : INFO : worker thread finished; awaiting finish of 6 more threads\n",
            "2020-02-27 10:59:21,430 : INFO : worker thread finished; awaiting finish of 5 more threads\n",
            "2020-02-27 10:59:21,430 : INFO : worker thread finished; awaiting finish of 4 more threads\n",
            "2020-02-27 10:59:21,433 : INFO : worker thread finished; awaiting finish of 3 more threads\n",
            "2020-02-27 10:59:21,435 : INFO : worker thread finished; awaiting finish of 2 more threads\n",
            "2020-02-27 10:59:21,456 : INFO : worker thread finished; awaiting finish of 1 more threads\n",
            "2020-02-27 10:59:21,459 : INFO : worker thread finished; awaiting finish of 0 more threads\n",
            "2020-02-27 10:59:21,459 : INFO : EPOCH - 23 : training on 20104 raw words (13935 effective words) took 0.0s, 317141 effective words/s\n",
            "2020-02-27 10:59:21,474 : INFO : worker thread finished; awaiting finish of 9 more threads\n",
            "2020-02-27 10:59:21,475 : INFO : worker thread finished; awaiting finish of 8 more threads\n",
            "2020-02-27 10:59:21,475 : INFO : worker thread finished; awaiting finish of 7 more threads\n",
            "2020-02-27 10:59:21,476 : INFO : worker thread finished; awaiting finish of 6 more threads\n",
            "2020-02-27 10:59:21,477 : INFO : worker thread finished; awaiting finish of 5 more threads\n",
            "2020-02-27 10:59:21,479 : INFO : worker thread finished; awaiting finish of 4 more threads\n",
            "2020-02-27 10:59:21,480 : INFO : worker thread finished; awaiting finish of 3 more threads\n",
            "2020-02-27 10:59:21,491 : INFO : worker thread finished; awaiting finish of 2 more threads\n",
            "2020-02-27 10:59:21,509 : INFO : worker thread finished; awaiting finish of 1 more threads\n",
            "2020-02-27 10:59:21,520 : INFO : worker thread finished; awaiting finish of 0 more threads\n",
            "2020-02-27 10:59:21,520 : INFO : EPOCH - 24 : training on 20104 raw words (13933 effective words) took 0.0s, 288060 effective words/s\n",
            "2020-02-27 10:59:21,535 : INFO : worker thread finished; awaiting finish of 9 more threads\n",
            "2020-02-27 10:59:21,536 : INFO : worker thread finished; awaiting finish of 8 more threads\n",
            "2020-02-27 10:59:21,537 : INFO : worker thread finished; awaiting finish of 7 more threads\n",
            "2020-02-27 10:59:21,538 : INFO : worker thread finished; awaiting finish of 6 more threads\n",
            "2020-02-27 10:59:21,539 : INFO : worker thread finished; awaiting finish of 5 more threads\n",
            "2020-02-27 10:59:21,544 : INFO : worker thread finished; awaiting finish of 4 more threads\n",
            "2020-02-27 10:59:21,546 : INFO : worker thread finished; awaiting finish of 3 more threads\n",
            "2020-02-27 10:59:21,547 : INFO : worker thread finished; awaiting finish of 2 more threads\n",
            "2020-02-27 10:59:21,567 : INFO : worker thread finished; awaiting finish of 1 more threads\n",
            "2020-02-27 10:59:21,572 : INFO : worker thread finished; awaiting finish of 0 more threads\n",
            "2020-02-27 10:59:21,573 : INFO : EPOCH - 25 : training on 20104 raw words (13930 effective words) took 0.0s, 309817 effective words/s\n",
            "2020-02-27 10:59:21,589 : INFO : worker thread finished; awaiting finish of 9 more threads\n",
            "2020-02-27 10:59:21,590 : INFO : worker thread finished; awaiting finish of 8 more threads\n",
            "2020-02-27 10:59:21,591 : INFO : worker thread finished; awaiting finish of 7 more threads\n",
            "2020-02-27 10:59:21,591 : INFO : worker thread finished; awaiting finish of 6 more threads\n",
            "2020-02-27 10:59:21,592 : INFO : worker thread finished; awaiting finish of 5 more threads\n",
            "2020-02-27 10:59:21,594 : INFO : worker thread finished; awaiting finish of 4 more threads\n",
            "2020-02-27 10:59:21,595 : INFO : worker thread finished; awaiting finish of 3 more threads\n",
            "2020-02-27 10:59:21,596 : INFO : worker thread finished; awaiting finish of 2 more threads\n",
            "2020-02-27 10:59:21,616 : INFO : worker thread finished; awaiting finish of 1 more threads\n",
            "2020-02-27 10:59:21,621 : INFO : worker thread finished; awaiting finish of 0 more threads\n",
            "2020-02-27 10:59:21,622 : INFO : EPOCH - 26 : training on 20104 raw words (13958 effective words) took 0.0s, 350956 effective words/s\n",
            "2020-02-27 10:59:21,638 : INFO : worker thread finished; awaiting finish of 9 more threads\n",
            "2020-02-27 10:59:21,640 : INFO : worker thread finished; awaiting finish of 8 more threads\n",
            "2020-02-27 10:59:21,641 : INFO : worker thread finished; awaiting finish of 7 more threads\n",
            "2020-02-27 10:59:21,642 : INFO : worker thread finished; awaiting finish of 6 more threads\n",
            "2020-02-27 10:59:21,644 : INFO : worker thread finished; awaiting finish of 5 more threads\n",
            "2020-02-27 10:59:21,648 : INFO : worker thread finished; awaiting finish of 4 more threads\n",
            "2020-02-27 10:59:21,649 : INFO : worker thread finished; awaiting finish of 3 more threads\n",
            "2020-02-27 10:59:21,650 : INFO : worker thread finished; awaiting finish of 2 more threads\n",
            "2020-02-27 10:59:21,665 : INFO : worker thread finished; awaiting finish of 1 more threads\n",
            "2020-02-27 10:59:21,671 : INFO : worker thread finished; awaiting finish of 0 more threads\n",
            "2020-02-27 10:59:21,671 : INFO : EPOCH - 27 : training on 20104 raw words (13979 effective words) took 0.0s, 364263 effective words/s\n",
            "2020-02-27 10:59:21,697 : INFO : worker thread finished; awaiting finish of 9 more threads\n",
            "2020-02-27 10:59:21,698 : INFO : worker thread finished; awaiting finish of 8 more threads\n",
            "2020-02-27 10:59:21,699 : INFO : worker thread finished; awaiting finish of 7 more threads\n",
            "2020-02-27 10:59:21,700 : INFO : worker thread finished; awaiting finish of 6 more threads\n",
            "2020-02-27 10:59:21,701 : INFO : worker thread finished; awaiting finish of 5 more threads\n",
            "2020-02-27 10:59:21,702 : INFO : worker thread finished; awaiting finish of 4 more threads\n",
            "2020-02-27 10:59:21,703 : INFO : worker thread finished; awaiting finish of 3 more threads\n",
            "2020-02-27 10:59:21,704 : INFO : worker thread finished; awaiting finish of 2 more threads\n",
            "2020-02-27 10:59:21,721 : INFO : worker thread finished; awaiting finish of 1 more threads\n",
            "2020-02-27 10:59:21,729 : INFO : worker thread finished; awaiting finish of 0 more threads\n",
            "2020-02-27 10:59:21,729 : INFO : EPOCH - 28 : training on 20104 raw words (13864 effective words) took 0.0s, 325534 effective words/s\n",
            "2020-02-27 10:59:21,739 : INFO : worker thread finished; awaiting finish of 9 more threads\n",
            "2020-02-27 10:59:21,742 : INFO : worker thread finished; awaiting finish of 8 more threads\n",
            "2020-02-27 10:59:21,746 : INFO : worker thread finished; awaiting finish of 7 more threads\n",
            "2020-02-27 10:59:21,747 : INFO : worker thread finished; awaiting finish of 6 more threads\n",
            "2020-02-27 10:59:21,748 : INFO : worker thread finished; awaiting finish of 5 more threads\n",
            "2020-02-27 10:59:21,751 : INFO : worker thread finished; awaiting finish of 4 more threads\n",
            "2020-02-27 10:59:21,752 : INFO : worker thread finished; awaiting finish of 3 more threads\n",
            "2020-02-27 10:59:21,752 : INFO : worker thread finished; awaiting finish of 2 more threads\n",
            "2020-02-27 10:59:21,770 : INFO : worker thread finished; awaiting finish of 1 more threads\n",
            "2020-02-27 10:59:21,784 : INFO : worker thread finished; awaiting finish of 0 more threads\n",
            "2020-02-27 10:59:21,785 : INFO : EPOCH - 29 : training on 20104 raw words (13931 effective words) took 0.0s, 294075 effective words/s\n",
            "2020-02-27 10:59:21,804 : INFO : worker thread finished; awaiting finish of 9 more threads\n",
            "2020-02-27 10:59:21,805 : INFO : worker thread finished; awaiting finish of 8 more threads\n",
            "2020-02-27 10:59:21,806 : INFO : worker thread finished; awaiting finish of 7 more threads\n",
            "2020-02-27 10:59:21,807 : INFO : worker thread finished; awaiting finish of 6 more threads\n",
            "2020-02-27 10:59:21,807 : INFO : worker thread finished; awaiting finish of 5 more threads\n",
            "2020-02-27 10:59:21,809 : INFO : worker thread finished; awaiting finish of 4 more threads\n",
            "2020-02-27 10:59:21,810 : INFO : worker thread finished; awaiting finish of 3 more threads\n",
            "2020-02-27 10:59:21,811 : INFO : worker thread finished; awaiting finish of 2 more threads\n",
            "2020-02-27 10:59:21,830 : INFO : worker thread finished; awaiting finish of 1 more threads\n",
            "2020-02-27 10:59:21,838 : INFO : worker thread finished; awaiting finish of 0 more threads\n",
            "2020-02-27 10:59:21,838 : INFO : EPOCH - 30 : training on 20104 raw words (13920 effective words) took 0.0s, 307423 effective words/s\n",
            "2020-02-27 10:59:21,850 : INFO : worker thread finished; awaiting finish of 9 more threads\n",
            "2020-02-27 10:59:21,855 : INFO : worker thread finished; awaiting finish of 8 more threads\n",
            "2020-02-27 10:59:21,856 : INFO : worker thread finished; awaiting finish of 7 more threads\n",
            "2020-02-27 10:59:21,857 : INFO : worker thread finished; awaiting finish of 6 more threads\n",
            "2020-02-27 10:59:21,858 : INFO : worker thread finished; awaiting finish of 5 more threads\n",
            "2020-02-27 10:59:21,859 : INFO : worker thread finished; awaiting finish of 4 more threads\n",
            "2020-02-27 10:59:21,860 : INFO : worker thread finished; awaiting finish of 3 more threads\n",
            "2020-02-27 10:59:21,861 : INFO : worker thread finished; awaiting finish of 2 more threads\n",
            "2020-02-27 10:59:21,877 : INFO : worker thread finished; awaiting finish of 1 more threads\n",
            "2020-02-27 10:59:21,892 : INFO : worker thread finished; awaiting finish of 0 more threads\n",
            "2020-02-27 10:59:21,893 : INFO : EPOCH - 31 : training on 20104 raw words (13937 effective words) took 0.0s, 316003 effective words/s\n",
            "2020-02-27 10:59:21,907 : INFO : worker thread finished; awaiting finish of 9 more threads\n",
            "2020-02-27 10:59:21,908 : INFO : worker thread finished; awaiting finish of 8 more threads\n",
            "2020-02-27 10:59:21,909 : INFO : worker thread finished; awaiting finish of 7 more threads\n",
            "2020-02-27 10:59:21,910 : INFO : worker thread finished; awaiting finish of 6 more threads\n",
            "2020-02-27 10:59:21,911 : INFO : worker thread finished; awaiting finish of 5 more threads\n",
            "2020-02-27 10:59:21,913 : INFO : worker thread finished; awaiting finish of 4 more threads\n",
            "2020-02-27 10:59:21,916 : INFO : worker thread finished; awaiting finish of 3 more threads\n",
            "2020-02-27 10:59:21,919 : INFO : worker thread finished; awaiting finish of 2 more threads\n",
            "2020-02-27 10:59:21,927 : INFO : worker thread finished; awaiting finish of 1 more threads\n",
            "2020-02-27 10:59:21,944 : INFO : worker thread finished; awaiting finish of 0 more threads\n",
            "2020-02-27 10:59:21,945 : INFO : EPOCH - 32 : training on 20104 raw words (13946 effective words) took 0.0s, 312871 effective words/s\n",
            "2020-02-27 10:59:21,959 : INFO : worker thread finished; awaiting finish of 9 more threads\n",
            "2020-02-27 10:59:21,959 : INFO : worker thread finished; awaiting finish of 8 more threads\n",
            "2020-02-27 10:59:21,960 : INFO : worker thread finished; awaiting finish of 7 more threads\n",
            "2020-02-27 10:59:21,961 : INFO : worker thread finished; awaiting finish of 6 more threads\n",
            "2020-02-27 10:59:21,962 : INFO : worker thread finished; awaiting finish of 5 more threads\n",
            "2020-02-27 10:59:21,963 : INFO : worker thread finished; awaiting finish of 4 more threads\n",
            "2020-02-27 10:59:21,963 : INFO : worker thread finished; awaiting finish of 3 more threads\n",
            "2020-02-27 10:59:21,969 : INFO : worker thread finished; awaiting finish of 2 more threads\n",
            "2020-02-27 10:59:21,977 : INFO : worker thread finished; awaiting finish of 1 more threads\n",
            "2020-02-27 10:59:21,993 : INFO : worker thread finished; awaiting finish of 0 more threads\n",
            "2020-02-27 10:59:21,994 : INFO : EPOCH - 33 : training on 20104 raw words (13928 effective words) took 0.0s, 331989 effective words/s\n",
            "2020-02-27 10:59:22,008 : INFO : worker thread finished; awaiting finish of 9 more threads\n",
            "2020-02-27 10:59:22,009 : INFO : worker thread finished; awaiting finish of 8 more threads\n",
            "2020-02-27 10:59:22,010 : INFO : worker thread finished; awaiting finish of 7 more threads\n",
            "2020-02-27 10:59:22,011 : INFO : worker thread finished; awaiting finish of 6 more threads\n",
            "2020-02-27 10:59:22,012 : INFO : worker thread finished; awaiting finish of 5 more threads\n",
            "2020-02-27 10:59:22,015 : INFO : worker thread finished; awaiting finish of 4 more threads\n",
            "2020-02-27 10:59:22,016 : INFO : worker thread finished; awaiting finish of 3 more threads\n",
            "2020-02-27 10:59:22,019 : INFO : worker thread finished; awaiting finish of 2 more threads\n",
            "2020-02-27 10:59:22,037 : INFO : worker thread finished; awaiting finish of 1 more threads\n",
            "2020-02-27 10:59:22,042 : INFO : worker thread finished; awaiting finish of 0 more threads\n",
            "2020-02-27 10:59:22,043 : INFO : EPOCH - 34 : training on 20104 raw words (13973 effective words) took 0.0s, 349205 effective words/s\n",
            "2020-02-27 10:59:22,060 : INFO : worker thread finished; awaiting finish of 9 more threads\n",
            "2020-02-27 10:59:22,061 : INFO : worker thread finished; awaiting finish of 8 more threads\n",
            "2020-02-27 10:59:22,062 : INFO : worker thread finished; awaiting finish of 7 more threads\n",
            "2020-02-27 10:59:22,063 : INFO : worker thread finished; awaiting finish of 6 more threads\n",
            "2020-02-27 10:59:22,063 : INFO : worker thread finished; awaiting finish of 5 more threads\n",
            "2020-02-27 10:59:22,066 : INFO : worker thread finished; awaiting finish of 4 more threads\n",
            "2020-02-27 10:59:22,067 : INFO : worker thread finished; awaiting finish of 3 more threads\n",
            "2020-02-27 10:59:22,070 : INFO : worker thread finished; awaiting finish of 2 more threads\n",
            "2020-02-27 10:59:22,088 : INFO : worker thread finished; awaiting finish of 1 more threads\n",
            "2020-02-27 10:59:22,090 : INFO : worker thread finished; awaiting finish of 0 more threads\n",
            "2020-02-27 10:59:22,091 : INFO : EPOCH - 35 : training on 20104 raw words (13934 effective words) took 0.0s, 366321 effective words/s\n",
            "2020-02-27 10:59:22,112 : INFO : worker thread finished; awaiting finish of 9 more threads\n",
            "2020-02-27 10:59:22,113 : INFO : worker thread finished; awaiting finish of 8 more threads\n",
            "2020-02-27 10:59:22,114 : INFO : worker thread finished; awaiting finish of 7 more threads\n",
            "2020-02-27 10:59:22,115 : INFO : worker thread finished; awaiting finish of 6 more threads\n",
            "2020-02-27 10:59:22,116 : INFO : worker thread finished; awaiting finish of 5 more threads\n",
            "2020-02-27 10:59:22,117 : INFO : worker thread finished; awaiting finish of 4 more threads\n",
            "2020-02-27 10:59:22,119 : INFO : worker thread finished; awaiting finish of 3 more threads\n",
            "2020-02-27 10:59:22,121 : INFO : worker thread finished; awaiting finish of 2 more threads\n",
            "2020-02-27 10:59:22,140 : INFO : worker thread finished; awaiting finish of 1 more threads\n",
            "2020-02-27 10:59:22,141 : INFO : worker thread finished; awaiting finish of 0 more threads\n",
            "2020-02-27 10:59:22,142 : INFO : EPOCH - 36 : training on 20104 raw words (13930 effective words) took 0.0s, 344307 effective words/s\n",
            "2020-02-27 10:59:22,167 : INFO : worker thread finished; awaiting finish of 9 more threads\n",
            "2020-02-27 10:59:22,170 : INFO : worker thread finished; awaiting finish of 8 more threads\n",
            "2020-02-27 10:59:22,172 : INFO : worker thread finished; awaiting finish of 7 more threads\n",
            "2020-02-27 10:59:22,174 : INFO : worker thread finished; awaiting finish of 6 more threads\n",
            "2020-02-27 10:59:22,176 : INFO : worker thread finished; awaiting finish of 5 more threads\n",
            "2020-02-27 10:59:22,178 : INFO : worker thread finished; awaiting finish of 4 more threads\n",
            "2020-02-27 10:59:22,179 : INFO : worker thread finished; awaiting finish of 3 more threads\n",
            "2020-02-27 10:59:22,182 : INFO : worker thread finished; awaiting finish of 2 more threads\n",
            "2020-02-27 10:59:22,191 : INFO : worker thread finished; awaiting finish of 1 more threads\n",
            "2020-02-27 10:59:22,207 : INFO : worker thread finished; awaiting finish of 0 more threads\n",
            "2020-02-27 10:59:22,208 : INFO : EPOCH - 37 : training on 20104 raw words (13909 effective words) took 0.1s, 266848 effective words/s\n",
            "2020-02-27 10:59:22,230 : INFO : worker thread finished; awaiting finish of 9 more threads\n",
            "2020-02-27 10:59:22,231 : INFO : worker thread finished; awaiting finish of 8 more threads\n",
            "2020-02-27 10:59:22,231 : INFO : worker thread finished; awaiting finish of 7 more threads\n",
            "2020-02-27 10:59:22,232 : INFO : worker thread finished; awaiting finish of 6 more threads\n",
            "2020-02-27 10:59:22,234 : INFO : worker thread finished; awaiting finish of 5 more threads\n",
            "2020-02-27 10:59:22,238 : INFO : worker thread finished; awaiting finish of 4 more threads\n",
            "2020-02-27 10:59:22,238 : INFO : worker thread finished; awaiting finish of 3 more threads\n",
            "2020-02-27 10:59:22,240 : INFO : worker thread finished; awaiting finish of 2 more threads\n",
            "2020-02-27 10:59:22,258 : INFO : worker thread finished; awaiting finish of 1 more threads\n",
            "2020-02-27 10:59:22,262 : INFO : worker thread finished; awaiting finish of 0 more threads\n",
            "2020-02-27 10:59:22,263 : INFO : EPOCH - 38 : training on 20104 raw words (13970 effective words) took 0.0s, 318234 effective words/s\n",
            "2020-02-27 10:59:22,276 : INFO : worker thread finished; awaiting finish of 9 more threads\n",
            "2020-02-27 10:59:22,277 : INFO : worker thread finished; awaiting finish of 8 more threads\n",
            "2020-02-27 10:59:22,278 : INFO : worker thread finished; awaiting finish of 7 more threads\n",
            "2020-02-27 10:59:22,279 : INFO : worker thread finished; awaiting finish of 6 more threads\n",
            "2020-02-27 10:59:22,280 : INFO : worker thread finished; awaiting finish of 5 more threads\n",
            "2020-02-27 10:59:22,281 : INFO : worker thread finished; awaiting finish of 4 more threads\n",
            "2020-02-27 10:59:22,283 : INFO : worker thread finished; awaiting finish of 3 more threads\n",
            "2020-02-27 10:59:22,287 : INFO : worker thread finished; awaiting finish of 2 more threads\n",
            "2020-02-27 10:59:22,310 : INFO : worker thread finished; awaiting finish of 1 more threads\n",
            "2020-02-27 10:59:22,323 : INFO : worker thread finished; awaiting finish of 0 more threads\n",
            "2020-02-27 10:59:22,323 : INFO : EPOCH - 39 : training on 20104 raw words (13932 effective words) took 0.1s, 265057 effective words/s\n",
            "2020-02-27 10:59:22,343 : INFO : worker thread finished; awaiting finish of 9 more threads\n",
            "2020-02-27 10:59:22,345 : INFO : worker thread finished; awaiting finish of 8 more threads\n",
            "2020-02-27 10:59:22,346 : INFO : worker thread finished; awaiting finish of 7 more threads\n",
            "2020-02-27 10:59:22,348 : INFO : worker thread finished; awaiting finish of 6 more threads\n",
            "2020-02-27 10:59:22,349 : INFO : worker thread finished; awaiting finish of 5 more threads\n",
            "2020-02-27 10:59:22,350 : INFO : worker thread finished; awaiting finish of 4 more threads\n",
            "2020-02-27 10:59:22,352 : INFO : worker thread finished; awaiting finish of 3 more threads\n",
            "2020-02-27 10:59:22,354 : INFO : worker thread finished; awaiting finish of 2 more threads\n",
            "2020-02-27 10:59:22,376 : INFO : worker thread finished; awaiting finish of 1 more threads\n",
            "2020-02-27 10:59:22,377 : INFO : worker thread finished; awaiting finish of 0 more threads\n",
            "2020-02-27 10:59:22,377 : INFO : EPOCH - 40 : training on 20104 raw words (13923 effective words) took 0.0s, 342948 effective words/s\n",
            "2020-02-27 10:59:22,380 : INFO : training on a 804160 raw words (557452 effective words) took 2.4s, 235577 effective words/s\n"
          ],
          "name": "stderr"
        },
        {
          "output_type": "stream",
          "text": [
            "CPU times: user 2.38 s, sys: 182 ms, total: 2.56 s\n",
            "Wall time: 2.37 s\n"
          ],
          "name": "stdout"
        },
        {
          "output_type": "execute_result",
          "data": {
            "text/plain": [
              "(557452, 804160)"
            ]
          },
          "metadata": {
            "tags": []
          },
          "execution_count": 19
        }
      ]
    },
    {
      "cell_type": "code",
      "metadata": {
        "id": "3T0LlqHzV5KX",
        "outputId": "1725debf-4301-4fb6-f4c9-09aade453c35",
        "colab": {
          "base_uri": "https://localhost:8080/",
          "height": 258
        }
      },
      "source": [
        "try:\n",
        "    most_similar = w2v_model_sg.most_similar(\"আগুন\")\n",
        "\n",
        "except KeyError as e:\n",
        "    print(e)\n",
        "\n",
        "most_similar"
      ],
      "execution_count": null,
      "outputs": [
        {
          "output_type": "stream",
          "text": [
            "/usr/local/lib/python3.6/dist-packages/ipykernel_launcher.py:2: DeprecationWarning: Call to deprecated `most_similar` (Method will be removed in 4.0.0, use self.wv.most_similar() instead).\n",
            "  \n",
            "2020-02-27 10:59:22,397 : INFO : precomputing L2-norms of word weight vectors\n"
          ],
          "name": "stderr"
        },
        {
          "output_type": "execute_result",
          "data": {
            "text/plain": [
              "[('জ্বলবে', 0.9107077121734619),\n",
              " ('একা', 0.8898437023162842),\n",
              " ('জ্বলে', 0.8822411298751831),\n",
              " ('ঘরে', 0.8399821519851685),\n",
              " ('আরাম', 0.8331995606422424),\n",
              " ('চেয়ারে', 0.8306315541267395),\n",
              " ('ভালবাসতে', 0.827613115310669),\n",
              " ('ভেঙেছে', 0.8205465078353882),\n",
              " ('বিদেশে', 0.8195927739143372),\n",
              " ('কঠোর', 0.8185871839523315)]"
            ]
          },
          "metadata": {
            "tags": []
          },
          "execution_count": 20
        }
      ]
    },
    {
      "cell_type": "code",
      "metadata": {
        "id": "9MrHnntVWAKj",
        "outputId": "65471ae6-7f30-47a2-c668-ddaf45846e6f",
        "colab": {
          "base_uri": "https://localhost:8080/",
          "height": 51
        }
      },
      "source": [
        "w2v_model_sg.wv.doesnt_match(\"সে কি আমার প্রতি আশাহত হয়েছে\".split())"
      ],
      "execution_count": null,
      "outputs": [
        {
          "output_type": "stream",
          "text": [
            "2020-02-27 10:59:22,416 : WARNING : vectors for words {'আশাহত'} are not present in the model, ignoring these words\n"
          ],
          "name": "stderr"
        },
        {
          "output_type": "execute_result",
          "data": {
            "text/plain": [
              "'কি'"
            ]
          },
          "metadata": {
            "tags": []
          },
          "execution_count": 21
        }
      ]
    },
    {
      "cell_type": "code",
      "metadata": {
        "id": "2UJOmIq5WElL"
      },
      "source": [
        "# w2v_model_sg.wv.save(\"/content/drive/My Drive/Thesis/dataset/w2vec_model/word2vecModel_300_2-sentiment_7460_sg.model\")"
      ],
      "execution_count": null,
      "outputs": []
    },
    {
      "cell_type": "code",
      "metadata": {
        "id": "PATypBiEWIsw",
        "outputId": "f1df4652-dbad-4695-a41e-eedcd4ab1bd6",
        "colab": {
          "base_uri": "https://localhost:8080/",
          "height": 68
        }
      },
      "source": [
        "%%time\n",
        "tokenizer = Tokenizer()\n",
        "tokenizer.fit_on_texts(df_train.bangla_text)\n",
        "\n",
        "vocab_size = len(tokenizer.word_index) + 1\n",
        "print(\"Total words in vocabulary: \", vocab_size)"
      ],
      "execution_count": null,
      "outputs": [
        {
          "output_type": "stream",
          "text": [
            "Total words in vocabulary:  3305\n",
            "CPU times: user 78.5 ms, sys: 52.6 ms, total: 131 ms\n",
            "Wall time: 103 ms\n"
          ],
          "name": "stdout"
        }
      ]
    },
    {
      "cell_type": "code",
      "metadata": {
        "id": "sKSjVY84WSZE",
        "outputId": "bae5ac40-6008-4549-dbf6-212f1f8ee82b",
        "colab": {
          "base_uri": "https://localhost:8080/",
          "height": 51
        }
      },
      "source": [
        "%%time\n",
        "x_train = pad_sequences(tokenizer.texts_to_sequences(df_train.bangla_text), maxlen=SEQUENCE_LENGTH)\n",
        "x_test = pad_sequences(tokenizer.texts_to_sequences(df_test.bangla_text), maxlen=SEQUENCE_LENGTH)"
      ],
      "execution_count": null,
      "outputs": [
        {
          "output_type": "stream",
          "text": [
            "CPU times: user 66.8 ms, sys: 1.07 ms, total: 67.9 ms\n",
            "Wall time: 68.6 ms\n"
          ],
          "name": "stdout"
        }
      ]
    },
    {
      "cell_type": "code",
      "metadata": {
        "id": "GpasPAFUWYmr",
        "outputId": "ca4b3559-fa52-449e-e1df-5c7b79e3a8dd",
        "colab": {
          "base_uri": "https://localhost:8080/",
          "height": 34
        }
      },
      "source": [
        "labels = df_train.target.unique().tolist()\n",
        "labels"
      ],
      "execution_count": null,
      "outputs": [
        {
          "output_type": "execute_result",
          "data": {
            "text/plain": [
              "['angry', 'excited', 'happy']"
            ]
          },
          "metadata": {
            "tags": []
          },
          "execution_count": 25
        }
      ]
    },
    {
      "cell_type": "code",
      "metadata": {
        "id": "00rCTIgicKuO",
        "outputId": "3a01248e-e224-428b-9426-a72c34320a59",
        "colab": {
          "base_uri": "https://localhost:8080/",
          "height": 51
        }
      },
      "source": [
        "encoder = LabelEncoder()\n",
        "encoder.fit(df_train.target.tolist())\n",
        "\n",
        "y_train = encoder.transform(df_train.target.tolist())\n",
        "y_test = encoder.transform(df_test.target.tolist())\n",
        "\n",
        "y_train = y_train.reshape(-1,1)\n",
        "y_test = y_test.reshape(-1,1)\n",
        "\n",
        "print(\"y_train\",y_train.shape)\n",
        "print(\"y_test\",y_test.shape)"
      ],
      "execution_count": null,
      "outputs": [
        {
          "output_type": "stream",
          "text": [
            "y_train (3474, 1)\n",
            "y_test (869, 1)\n"
          ],
          "name": "stdout"
        }
      ]
    },
    {
      "cell_type": "code",
      "metadata": {
        "id": "s4qhO4oJcKn_",
        "outputId": "28547d2a-2f88-4db2-d673-a459f5783925",
        "colab": {
          "base_uri": "https://localhost:8080/",
          "height": 578
        }
      },
      "source": [
        "print(f\"y_train: \\n{y_train[:15]} \\n\\ny_test: \\n{y_test[:15]}\")"
      ],
      "execution_count": null,
      "outputs": [
        {
          "output_type": "stream",
          "text": [
            "y_train: \n",
            "[[0]\n",
            " [1]\n",
            " [0]\n",
            " [0]\n",
            " [1]\n",
            " [1]\n",
            " [0]\n",
            " [0]\n",
            " [1]\n",
            " [2]\n",
            " [2]\n",
            " [1]\n",
            " [0]\n",
            " [0]\n",
            " [1]] \n",
            "\n",
            "y_test: \n",
            "[[0]\n",
            " [1]\n",
            " [1]\n",
            " [1]\n",
            " [1]\n",
            " [0]\n",
            " [0]\n",
            " [0]\n",
            " [1]\n",
            " [2]\n",
            " [0]\n",
            " [2]\n",
            " [2]\n",
            " [1]\n",
            " [0]]\n"
          ],
          "name": "stdout"
        }
      ]
    },
    {
      "cell_type": "code",
      "metadata": {
        "id": "7n5F_9ddcQsG",
        "outputId": "ab64800e-92be-406e-cc3b-2dbd544dccf4",
        "colab": {
          "base_uri": "https://localhost:8080/",
          "height": 102
        }
      },
      "source": [
        "print(\"x_train\", x_train.shape)\n",
        "print(\"y_train\", y_train.shape)\n",
        "print()\n",
        "print(\"x_test\", x_test.shape)\n",
        "print(\"y_test\", y_test.shape)"
      ],
      "execution_count": null,
      "outputs": [
        {
          "output_type": "stream",
          "text": [
            "x_train (3474, 50)\n",
            "y_train (3474, 1)\n",
            "\n",
            "x_test (869, 50)\n",
            "y_test (869, 1)\n"
          ],
          "name": "stdout"
        }
      ]
    },
    {
      "cell_type": "code",
      "metadata": {
        "id": "1EBZt_D-cVO-",
        "outputId": "479732ee-c275-4480-d858-5a93d09bd621",
        "colab": {
          "base_uri": "https://localhost:8080/",
          "height": 34
        }
      },
      "source": [
        "# embedding_matrix = np.zeros((vocab_size, W2V_SIZE))\n",
        "embedding_matrix_sg = np.zeros((vocab_size, W2V_SIZE))\n",
        "for word, i in tokenizer.word_index.items():\n",
        "    if word in w2v_model_sg.wv:\n",
        "        embedding_matrix_sg[i] = w2v_model_sg.wv[word]\n",
        "print(embedding_matrix_sg.shape)"
      ],
      "execution_count": null,
      "outputs": [
        {
          "output_type": "stream",
          "text": [
            "(3305, 100)\n"
          ],
          "name": "stdout"
        }
      ]
    },
    {
      "cell_type": "code",
      "metadata": {
        "id": "7nHvCgD0cYQ2",
        "outputId": "3cdd4ded-5d05-4494-c82e-b10f30e128aa",
        "colab": {
          "base_uri": "https://localhost:8080/",
          "height": 105
        }
      },
      "source": [
        "embedding_layer_sg = Embedding(vocab_size, W2V_SIZE, weights=[embedding_matrix_sg], input_length=SEQUENCE_LENGTH, trainable=False)"
      ],
      "execution_count": null,
      "outputs": [
        {
          "output_type": "stream",
          "text": [
            "WARNING:tensorflow:From /usr/local/lib/python3.6/dist-packages/keras/backend/tensorflow_backend.py:66: The name tf.get_default_graph is deprecated. Please use tf.compat.v1.get_default_graph instead.\n",
            "\n"
          ],
          "name": "stdout"
        },
        {
          "output_type": "stream",
          "text": [
            "2020-02-27 10:59:22,707 : WARNING : From /usr/local/lib/python3.6/dist-packages/keras/backend/tensorflow_backend.py:66: The name tf.get_default_graph is deprecated. Please use tf.compat.v1.get_default_graph instead.\n",
            "\n"
          ],
          "name": "stderr"
        }
      ]
    },
    {
      "cell_type": "code",
      "metadata": {
        "id": "rtJ-EPQ9cbMe",
        "outputId": "a15edb0d-7d2b-4b8c-ba15-72f2cfcf6d00",
        "colab": {
          "base_uri": "https://localhost:8080/",
          "height": 34
        }
      },
      "source": [
        "embedding_layer_sg.trainable"
      ],
      "execution_count": null,
      "outputs": [
        {
          "output_type": "execute_result",
          "data": {
            "text/plain": [
              "False"
            ]
          },
          "metadata": {
            "tags": []
          },
          "execution_count": 31
        }
      ]
    },
    {
      "cell_type": "code",
      "metadata": {
        "id": "Sh_ryXFbceB2",
        "outputId": "27677035-6b87-4e86-f554-b39e08d542f5",
        "colab": {
          "base_uri": "https://localhost:8080/",
          "height": 1000
        }
      },
      "source": [
        "model_sg = Sequential()\n",
        "model_sg.add(embedding_layer_sg)\n",
        "model_sg.add(Dropout(0.5))\n",
        "model_sg.add(LSTM(100, dropout=0.2, recurrent_dropout=0.2))\n",
        "model_sg.add(Dense(1, activation='sigmoid'))\n",
        "\n",
        "model_sg.summary()"
      ],
      "execution_count": null,
      "outputs": [
        {
          "output_type": "stream",
          "text": [
            "WARNING:tensorflow:From /usr/local/lib/python3.6/dist-packages/keras/backend/tensorflow_backend.py:541: The name tf.placeholder is deprecated. Please use tf.compat.v1.placeholder instead.\n",
            "\n"
          ],
          "name": "stdout"
        },
        {
          "output_type": "stream",
          "text": [
            "2020-02-27 10:59:22,732 : WARNING : From /usr/local/lib/python3.6/dist-packages/keras/backend/tensorflow_backend.py:541: The name tf.placeholder is deprecated. Please use tf.compat.v1.placeholder instead.\n",
            "\n"
          ],
          "name": "stderr"
        },
        {
          "output_type": "stream",
          "text": [
            "WARNING:tensorflow:From /usr/local/lib/python3.6/dist-packages/keras/backend/tensorflow_backend.py:4432: The name tf.random_uniform is deprecated. Please use tf.random.uniform instead.\n",
            "\n"
          ],
          "name": "stdout"
        },
        {
          "output_type": "stream",
          "text": [
            "2020-02-27 10:59:22,744 : WARNING : From /usr/local/lib/python3.6/dist-packages/keras/backend/tensorflow_backend.py:4432: The name tf.random_uniform is deprecated. Please use tf.random.uniform instead.\n",
            "\n"
          ],
          "name": "stderr"
        },
        {
          "output_type": "stream",
          "text": [
            "WARNING:tensorflow:From /usr/local/lib/python3.6/dist-packages/keras/backend/tensorflow_backend.py:190: The name tf.get_default_session is deprecated. Please use tf.compat.v1.get_default_session instead.\n",
            "\n"
          ],
          "name": "stdout"
        },
        {
          "output_type": "stream",
          "text": [
            "2020-02-27 10:59:22,759 : WARNING : From /usr/local/lib/python3.6/dist-packages/keras/backend/tensorflow_backend.py:190: The name tf.get_default_session is deprecated. Please use tf.compat.v1.get_default_session instead.\n",
            "\n"
          ],
          "name": "stderr"
        },
        {
          "output_type": "stream",
          "text": [
            "WARNING:tensorflow:From /usr/local/lib/python3.6/dist-packages/keras/backend/tensorflow_backend.py:197: The name tf.ConfigProto is deprecated. Please use tf.compat.v1.ConfigProto instead.\n",
            "\n"
          ],
          "name": "stdout"
        },
        {
          "output_type": "stream",
          "text": [
            "2020-02-27 10:59:22,762 : WARNING : From /usr/local/lib/python3.6/dist-packages/keras/backend/tensorflow_backend.py:197: The name tf.ConfigProto is deprecated. Please use tf.compat.v1.ConfigProto instead.\n",
            "\n"
          ],
          "name": "stderr"
        },
        {
          "output_type": "stream",
          "text": [
            "WARNING:tensorflow:From /usr/local/lib/python3.6/dist-packages/keras/backend/tensorflow_backend.py:203: The name tf.Session is deprecated. Please use tf.compat.v1.Session instead.\n",
            "\n"
          ],
          "name": "stdout"
        },
        {
          "output_type": "stream",
          "text": [
            "2020-02-27 10:59:22,764 : WARNING : From /usr/local/lib/python3.6/dist-packages/keras/backend/tensorflow_backend.py:203: The name tf.Session is deprecated. Please use tf.compat.v1.Session instead.\n",
            "\n"
          ],
          "name": "stderr"
        },
        {
          "output_type": "stream",
          "text": [
            "WARNING:tensorflow:From /usr/local/lib/python3.6/dist-packages/keras/backend/tensorflow_backend.py:207: The name tf.global_variables is deprecated. Please use tf.compat.v1.global_variables instead.\n",
            "\n"
          ],
          "name": "stdout"
        },
        {
          "output_type": "stream",
          "text": [
            "2020-02-27 10:59:24,232 : WARNING : From /usr/local/lib/python3.6/dist-packages/keras/backend/tensorflow_backend.py:207: The name tf.global_variables is deprecated. Please use tf.compat.v1.global_variables instead.\n",
            "\n"
          ],
          "name": "stderr"
        },
        {
          "output_type": "stream",
          "text": [
            "WARNING:tensorflow:From /usr/local/lib/python3.6/dist-packages/keras/backend/tensorflow_backend.py:216: The name tf.is_variable_initialized is deprecated. Please use tf.compat.v1.is_variable_initialized instead.\n",
            "\n"
          ],
          "name": "stdout"
        },
        {
          "output_type": "stream",
          "text": [
            "2020-02-27 10:59:24,237 : WARNING : From /usr/local/lib/python3.6/dist-packages/keras/backend/tensorflow_backend.py:216: The name tf.is_variable_initialized is deprecated. Please use tf.compat.v1.is_variable_initialized instead.\n",
            "\n"
          ],
          "name": "stderr"
        },
        {
          "output_type": "stream",
          "text": [
            "WARNING:tensorflow:From /usr/local/lib/python3.6/dist-packages/keras/backend/tensorflow_backend.py:223: The name tf.variables_initializer is deprecated. Please use tf.compat.v1.variables_initializer instead.\n",
            "\n"
          ],
          "name": "stdout"
        },
        {
          "output_type": "stream",
          "text": [
            "2020-02-27 10:59:24,321 : WARNING : From /usr/local/lib/python3.6/dist-packages/keras/backend/tensorflow_backend.py:223: The name tf.variables_initializer is deprecated. Please use tf.compat.v1.variables_initializer instead.\n",
            "\n"
          ],
          "name": "stderr"
        },
        {
          "output_type": "stream",
          "text": [
            "WARNING:tensorflow:From /usr/local/lib/python3.6/dist-packages/keras/backend/tensorflow_backend.py:148: The name tf.placeholder_with_default is deprecated. Please use tf.compat.v1.placeholder_with_default instead.\n",
            "\n"
          ],
          "name": "stdout"
        },
        {
          "output_type": "stream",
          "text": [
            "2020-02-27 10:59:30,887 : WARNING : From /usr/local/lib/python3.6/dist-packages/keras/backend/tensorflow_backend.py:148: The name tf.placeholder_with_default is deprecated. Please use tf.compat.v1.placeholder_with_default instead.\n",
            "\n"
          ],
          "name": "stderr"
        },
        {
          "output_type": "stream",
          "text": [
            "WARNING:tensorflow:From /usr/local/lib/python3.6/dist-packages/keras/backend/tensorflow_backend.py:3733: calling dropout (from tensorflow.python.ops.nn_ops) with keep_prob is deprecated and will be removed in a future version.\n",
            "Instructions for updating:\n",
            "Please use `rate` instead of `keep_prob`. Rate should be set to `rate = 1 - keep_prob`.\n"
          ],
          "name": "stdout"
        },
        {
          "output_type": "stream",
          "text": [
            "2020-02-27 10:59:30,901 : WARNING : From /usr/local/lib/python3.6/dist-packages/keras/backend/tensorflow_backend.py:3733: calling dropout (from tensorflow.python.ops.nn_ops) with keep_prob is deprecated and will be removed in a future version.\n",
            "Instructions for updating:\n",
            "Please use `rate` instead of `keep_prob`. Rate should be set to `rate = 1 - keep_prob`.\n"
          ],
          "name": "stderr"
        },
        {
          "output_type": "stream",
          "text": [
            "Model: \"sequential_1\"\n",
            "_________________________________________________________________\n",
            "Layer (type)                 Output Shape              Param #   \n",
            "=================================================================\n",
            "embedding_1 (Embedding)      (None, 50, 100)           330500    \n",
            "_________________________________________________________________\n",
            "dropout_1 (Dropout)          (None, 50, 100)           0         \n",
            "_________________________________________________________________\n",
            "lstm_1 (LSTM)                (None, 100)               80400     \n",
            "_________________________________________________________________\n",
            "dense_1 (Dense)              (None, 1)                 101       \n",
            "=================================================================\n",
            "Total params: 411,001\n",
            "Trainable params: 80,501\n",
            "Non-trainable params: 330,500\n",
            "_________________________________________________________________\n"
          ],
          "name": "stdout"
        }
      ]
    },
    {
      "cell_type": "code",
      "metadata": {
        "id": "8fTwwPBFcjpW",
        "outputId": "261a844a-2a17-4926-c940-5a5ce17d4266",
        "colab": {
          "base_uri": "https://localhost:8080/",
          "height": 275
        }
      },
      "source": [
        "model_sg.compile(loss='binary_crossentropy',\n",
        "              optimizer=\"adam\",\n",
        "              metrics=['accuracy'])"
      ],
      "execution_count": null,
      "outputs": [
        {
          "output_type": "stream",
          "text": [
            "WARNING:tensorflow:From /usr/local/lib/python3.6/dist-packages/keras/optimizers.py:793: The name tf.train.Optimizer is deprecated. Please use tf.compat.v1.train.Optimizer instead.\n",
            "\n"
          ],
          "name": "stdout"
        },
        {
          "output_type": "stream",
          "text": [
            "2020-02-27 10:59:31,258 : WARNING : From /usr/local/lib/python3.6/dist-packages/keras/optimizers.py:793: The name tf.train.Optimizer is deprecated. Please use tf.compat.v1.train.Optimizer instead.\n",
            "\n"
          ],
          "name": "stderr"
        },
        {
          "output_type": "stream",
          "text": [
            "WARNING:tensorflow:From /usr/local/lib/python3.6/dist-packages/keras/backend/tensorflow_backend.py:3657: The name tf.log is deprecated. Please use tf.math.log instead.\n",
            "\n"
          ],
          "name": "stdout"
        },
        {
          "output_type": "stream",
          "text": [
            "2020-02-27 10:59:31,282 : WARNING : From /usr/local/lib/python3.6/dist-packages/keras/backend/tensorflow_backend.py:3657: The name tf.log is deprecated. Please use tf.math.log instead.\n",
            "\n"
          ],
          "name": "stderr"
        },
        {
          "output_type": "stream",
          "text": [
            "WARNING:tensorflow:From /usr/local/lib/python3.6/dist-packages/tensorflow_core/python/ops/nn_impl.py:183: where (from tensorflow.python.ops.array_ops) is deprecated and will be removed in a future version.\n",
            "Instructions for updating:\n",
            "Use tf.where in 2.0, which has the same broadcast rule as np.where\n"
          ],
          "name": "stdout"
        },
        {
          "output_type": "stream",
          "text": [
            "2020-02-27 10:59:31,289 : WARNING : From /usr/local/lib/python3.6/dist-packages/tensorflow_core/python/ops/nn_impl.py:183: where (from tensorflow.python.ops.array_ops) is deprecated and will be removed in a future version.\n",
            "Instructions for updating:\n",
            "Use tf.where in 2.0, which has the same broadcast rule as np.where\n"
          ],
          "name": "stderr"
        }
      ]
    },
    {
      "cell_type": "code",
      "metadata": {
        "id": "dyMib2wwcoKe"
      },
      "source": [
        "callbacks = [ ReduceLROnPlateau(monitor='val_loss', patience=5, cooldown=0),\n",
        "              EarlyStopping(monitor='val_acc', min_delta=1e-4, patience=5)]"
      ],
      "execution_count": null,
      "outputs": []
    },
    {
      "cell_type": "code",
      "metadata": {
        "id": "B-F0RRfpcrTY",
        "outputId": "607ea8ac-ae01-411f-9171-acf227ed70cf",
        "colab": {
          "base_uri": "https://localhost:8080/",
          "height": 734
        }
      },
      "source": [
        "%%time\n",
        "history_sg = model_sg.fit(x_train, y_train,\n",
        "                    batch_size=BATCH_SIZE,\n",
        "                    epochs= 20,\n",
        "                    validation_split=0.1,\n",
        "                    verbose=1,\n",
        "                    callbacks=callbacks)"
      ],
      "execution_count": null,
      "outputs": [
        {
          "output_type": "stream",
          "text": [
            "WARNING:tensorflow:From /usr/local/lib/python3.6/dist-packages/keras/backend/tensorflow_backend.py:1033: The name tf.assign_add is deprecated. Please use tf.compat.v1.assign_add instead.\n",
            "\n"
          ],
          "name": "stdout"
        },
        {
          "output_type": "stream",
          "text": [
            "2020-02-27 10:59:32,107 : WARNING : From /usr/local/lib/python3.6/dist-packages/keras/backend/tensorflow_backend.py:1033: The name tf.assign_add is deprecated. Please use tf.compat.v1.assign_add instead.\n",
            "\n"
          ],
          "name": "stderr"
        },
        {
          "output_type": "stream",
          "text": [
            "WARNING:tensorflow:From /usr/local/lib/python3.6/dist-packages/keras/backend/tensorflow_backend.py:1020: The name tf.assign is deprecated. Please use tf.compat.v1.assign instead.\n",
            "\n"
          ],
          "name": "stdout"
        },
        {
          "output_type": "stream",
          "text": [
            "2020-02-27 10:59:32,287 : WARNING : From /usr/local/lib/python3.6/dist-packages/keras/backend/tensorflow_backend.py:1020: The name tf.assign is deprecated. Please use tf.compat.v1.assign instead.\n",
            "\n"
          ],
          "name": "stderr"
        },
        {
          "output_type": "stream",
          "text": [
            "Train on 3126 samples, validate on 348 samples\n",
            "Epoch 1/20\n",
            "3126/3126 [==============================] - 3s 925us/step - loss: 0.6604 - acc: 0.4415 - val_loss: 0.5974 - val_acc: 0.4684\n",
            "Epoch 2/20\n",
            "3126/3126 [==============================] - 0s 155us/step - loss: 0.5944 - acc: 0.4655 - val_loss: 0.5455 - val_acc: 0.4684\n",
            "Epoch 3/20\n",
            "3126/3126 [==============================] - 0s 146us/step - loss: 0.5527 - acc: 0.4655 - val_loss: 0.5154 - val_acc: 0.4684\n",
            "Epoch 4/20\n",
            "3126/3126 [==============================] - 0s 125us/step - loss: 0.5262 - acc: 0.4655 - val_loss: 0.4855 - val_acc: 0.4684\n",
            "Epoch 5/20\n",
            "3126/3126 [==============================] - 0s 149us/step - loss: 0.4927 - acc: 0.4658 - val_loss: 0.4420 - val_acc: 0.4684\n",
            "Epoch 6/20\n",
            "3126/3126 [==============================] - 0s 138us/step - loss: 0.4597 - acc: 0.4779 - val_loss: 0.3990 - val_acc: 0.5086\n",
            "Epoch 7/20\n",
            "3126/3126 [==============================] - 0s 132us/step - loss: 0.4270 - acc: 0.5048 - val_loss: 0.3485 - val_acc: 0.5460\n",
            "Epoch 8/20\n",
            "3126/3126 [==============================] - 0s 118us/step - loss: 0.3747 - acc: 0.5266 - val_loss: 0.2915 - val_acc: 0.5632\n",
            "Epoch 9/20\n",
            "3126/3126 [==============================] - 0s 142us/step - loss: 0.3234 - acc: 0.5656 - val_loss: 0.2424 - val_acc: 0.6063\n",
            "Epoch 10/20\n",
            "3126/3126 [==============================] - 0s 151us/step - loss: 0.2877 - acc: 0.5825 - val_loss: 0.2252 - val_acc: 0.6638\n",
            "Epoch 11/20\n",
            "3126/3126 [==============================] - 0s 124us/step - loss: 0.2544 - acc: 0.6107 - val_loss: 0.1843 - val_acc: 0.6609\n",
            "Epoch 12/20\n",
            "3126/3126 [==============================] - 0s 147us/step - loss: 0.2186 - acc: 0.6065 - val_loss: 0.1098 - val_acc: 0.6264\n",
            "Epoch 13/20\n",
            "3126/3126 [==============================] - 0s 109us/step - loss: 0.1389 - acc: 0.5921 - val_loss: 0.0625 - val_acc: 0.6207\n",
            "Epoch 14/20\n",
            "3126/3126 [==============================] - 0s 151us/step - loss: 0.0882 - acc: 0.5928 - val_loss: 0.0211 - val_acc: 0.6092\n",
            "Epoch 15/20\n",
            "3126/3126 [==============================] - 0s 144us/step - loss: 0.0778 - acc: 0.5979 - val_loss: -0.0242 - val_acc: 0.6408\n",
            "CPU times: user 10.8 s, sys: 770 ms, total: 11.6 s\n",
            "Wall time: 10 s\n"
          ],
          "name": "stdout"
        }
      ]
    },
    {
      "cell_type": "code",
      "metadata": {
        "id": "7cgd4Nqfc3_u",
        "outputId": "a6648f6c-6227-43f4-a1ad-a510a3d0ad40",
        "colab": {
          "base_uri": "https://localhost:8080/",
          "height": 153
        }
      },
      "source": [
        "%%time\n",
        "score_sg = model_sg.evaluate(x_test, y_test, batch_size=BATCH_SIZE)\n",
        "print(\"\\nSkip Gram Accuracy\")\n",
        "print(f\"ACCURACY: {score_sg[1]}    ==> {score_sg[1] * 100 : 0.2f}%\")\n",
        "print(f\"LOSS: {score_sg[0]}    ==> {score_sg[0] * 100 : 0.2f}% \\n\")"
      ],
      "execution_count": null,
      "outputs": [
        {
          "output_type": "stream",
          "text": [
            "\r869/869 [==============================] - 0s 67us/step\n",
            "\n",
            "Skip Gram Accuracy\n",
            "ACCURACY: 0.6329113841056824    ==>  63.29%\n",
            "LOSS: -0.058266133069992065    ==> -5.83% \n",
            "\n",
            "CPU times: user 64.8 ms, sys: 13.7 ms, total: 78.4 ms\n",
            "Wall time: 60.8 ms\n"
          ],
          "name": "stdout"
        }
      ]
    },
    {
      "cell_type": "code",
      "metadata": {
        "id": "TELLxiU0Ith2",
        "outputId": "9e6615ea-cf54-4fac-bddc-b077d4b28e58",
        "colab": {
          "base_uri": "https://localhost:8080/",
          "height": 136
        }
      },
      "source": [
        "x_test"
      ],
      "execution_count": null,
      "outputs": [
        {
          "output_type": "execute_result",
          "data": {
            "text/plain": [
              "array([[   0,    0,    0, ...,  128,  134,    9],\n",
              "       [   0,    0,    0, ...,    6, 1606,  169],\n",
              "       [   0,    0,    0, ...,  384,  561,  932],\n",
              "       ...,\n",
              "       [   0,    0,    0, ...,   42,  913,    6],\n",
              "       [   0,    0,    0, ...,  728, 1483,    4],\n",
              "       [   0,    0,    0, ...,    5,   47,  547]], dtype=int32)"
            ]
          },
          "metadata": {
            "tags": []
          },
          "execution_count": 37
        }
      ]
    },
    {
      "cell_type": "code",
      "metadata": {
        "id": "sttltewS70U0",
        "outputId": "7f8ede3f-c2dc-4e3d-bc69-08031c2f39a7",
        "colab": {
          "base_uri": "https://localhost:8080/",
          "height": 34
        }
      },
      "source": [
        "df.shape"
      ],
      "execution_count": null,
      "outputs": [
        {
          "output_type": "execute_result",
          "data": {
            "text/plain": [
              "(4343, 2)"
            ]
          },
          "metadata": {
            "tags": []
          },
          "execution_count": 38
        }
      ]
    },
    {
      "cell_type": "code",
      "metadata": {
        "id": "9vdOjxKIHdGv"
      },
      "source": [
        "def plot_validation_accuraccy(history_sg):\n",
        "  # Plot training & validation accuracy values\n",
        "  plt.plot(history_sg.history['acc'])\n",
        "  plt.plot(history_sg.history['val_acc'])\n",
        "  plt.title('Model accuracy')\n",
        "  plt.ylabel('Accuracy')\n",
        "  plt.xlabel('Epoch')\n",
        "  plt.legend(['Train', 'Test'], loc='upper left')\n",
        "  plt.show()\n",
        "\n",
        "def plot_validation_loss(history_sg):\n",
        "  # Plot training & validation loss values\n",
        "  plt.plot(history_sg.history['loss'])\n",
        "  plt.plot(history_sg.history['val_loss'])\n",
        "  plt.title('Model loss')\n",
        "  plt.ylabel('Loss')\n",
        "  plt.xlabel('Epoch')\n",
        "  plt.legend(['Train', 'Test'], loc='upper left')\n",
        "  plt.show()\n"
      ],
      "execution_count": null,
      "outputs": []
    },
    {
      "cell_type": "code",
      "metadata": {
        "id": "Acga-d3B5Iu_",
        "outputId": "e758b548-4b0c-48cb-9e22-b244181d4713",
        "colab": {
          "base_uri": "https://localhost:8080/",
          "height": 573
        }
      },
      "source": [
        "plot_validation_accuraccy(history_sg)\n",
        "plot_validation_loss(history_sg)"
      ],
      "execution_count": null,
      "outputs": [
        {
          "output_type": "display_data",
          "data": {
            "image/png": "[encoded data removed]",
            "text/plain": [
              "<Figure size 432x288 with 1 Axes>"
            ]
          },
          "metadata": {
            "tags": []
          }
        },
        {
          "output_type": "display_data",
          "data": {
            "image/png": "[encoded data removed]",
            "text/plain": [
              "<Figure size 432x288 with 1 Axes>"
            ]
          },
          "metadata": {
            "tags": []
          }
        }
      ]
    },
    {
      "cell_type": "code",
      "metadata": {
        "id": "R43eTi0KUU9y"
      },
      "source": [
        "def decode_sentiment(score, include_neutral=True):\n",
        "    if include_neutral:\n",
        "        label = \"NEUTRAL\"\n",
        "    if score <= SENTIMENT_THRESHOLDS[0]:\n",
        "        label = \"negative\"\n",
        "    elif score >= SENTIMENT_THRESHOLDS[1]:\n",
        "        label = \"positive\"\n",
        "\n",
        "        return label\n",
        "    else:\n",
        "        return \"negative\" if score < 0.5 else \"positive\""
      ],
      "execution_count": null,
      "outputs": []
    },
    {
      "cell_type": "code",
      "metadata": {
        "id": "zz3-_lHrJQtG"
      },
      "source": [
        "def predict_sg(text, include_neutral=True):\n",
        "    start_at = time.time()\n",
        "    # Tokenize text\n",
        "    x_test = pad_sequences(tokenizer.texts_to_sequences([text]), maxlen=SEQUENCE_LENGTH)\n",
        "\n",
        "\n",
        "    # print(f\"x_test = {x_test}: Size: {len(x_test[0])}, Sequence Length: {SEQUENCE_LENGTH}\")\n",
        "\n",
        "\n",
        "    # Predict\n",
        "    score = model_sg.predict([x_test])[0]\n",
        "    # print(f\"Score is: {score}\")\n",
        "\n",
        "    # Decode sentiment\n",
        "    label = decode_sentiment(score, include_neutral=include_neutral)\n",
        "\n",
        "    return {\"label\": label, \"score\": float(score),\n",
        "       \"elapsed_time\": time.time()-start_at}"
      ],
      "execution_count": null,
      "outputs": []
    },
    {
      "cell_type": "code",
      "metadata": {
        "id": "IGkl6tp6JXr9"
      },
      "source": [
        "def predict_sg(text, include_neutral=True):\n",
        "    start_at = time.time()\n",
        "    # Tokenize text\n",
        "    x_test = pad_sequences(tokenizer.texts_to_sequences([text]), maxlen=SEQUENCE_LENGTH)\n",
        "\n",
        "\n",
        "    # print(f\"x_test = {x_test}: Size: {len(x_test[0])}, Sequence Length: {SEQUENCE_LENGTH}\")\n",
        "\n",
        "\n",
        "    # Predict\n",
        "    score = model_sg.predict([x_test])[0]\n",
        "    # print(f\"Score is: {score}\")\n",
        "\n",
        "    # Decode sentiment\n",
        "    label = decode_sentiment(score, include_neutral=include_neutral)\n",
        "\n",
        "    return {\"label\": label, \"score\": float(score),\n",
        "       \"elapsed_time\": time.time()-start_at}"
      ],
      "execution_count": null,
      "outputs": []
    },
    {
      "cell_type": "code",
      "metadata": {
        "id": "rNYHYEUOMKGi",
        "outputId": "e7591ed3-c8a6-4779-e8e0-82e2222042b9",
        "colab": {
          "base_uri": "https://localhost:8080/",
          "height": 1000
        }
      },
      "source": [
        "new_class_label = []\n",
        "count = 1\n",
        "for word in df_test['bangla_text']:\n",
        "  prediction = predict_sg(word)\n",
        "  new_class_label.append(prediction['label'])\n",
        "  # print(f\"{count}  {word}   == {prediction['label']}\")\n",
        "  count += 1\n",
        "\n",
        "\n",
        "len(new_class_label)\n",
        "\n",
        "len(df_test['target'])\n",
        "\n",
        "count = 0\n",
        "wrong_res_count = 0\n",
        "for index, row in df_test.iterrows():\n",
        "  if(row['target'] != new_class_label[count]):\n",
        "    print(f\"{index}  {row['bangla_text']}  A: {row['target']}  G: {new_class_label[count]}\")\n",
        "    wrong_res_count += 1\n",
        "\n",
        "  count += 1\n",
        "\n",
        "print(f\"Total wrong result given: {wrong_res_count}\")"
      ],
      "execution_count": null,
      "outputs": [
        {
          "output_type": "stream",
          "text": [
            "1978  কোনটা ভাল কোনটা খারাপ জানি আমি  A: positive  G: negative\n",
            "7271  আমি থাকতে তোমাদের সাথে কিভাবে খারাপ কিছু ঘটে যেতো  A: positive  G: negative\n",
            "576  তোমার চোখে পানি দেখতে চাইনা  A: positive  G: negative\n",
            "965  সে পাশে নেই আমাদের  A: negative  G: positive\n",
            "101  ভালবাসা সুন্দর কিন্তু কখনো কষ্টের  A: negative  G: positive\n",
            "2579  তুমি শান্তি মত বসো আগে  A: positive  G: negative\n",
            "1765  সবকিছু দিয়েছ কিছু বাকি রাখো নাই  A: positive  G: negative\n",
            "1562  আমাদের মাঝে কেউ কখনও আসবেনা  A: positive  G: negative\n",
            "3381  সে কবি রূপে অসাধারণ মানুষ  A: positive  G: negative\n",
            "2063  আমার কাছে তোমার কোনো সংকোচ নেই  A: positive  G: negative\n",
            "706  সে সবার জীবনে খুশি নিয়ে এসেছে  A: positive  G: negative\n",
            "3611  তার কোনো বাজে স্বভাব নেই  A: positive  G: negative\n",
            "1656  সে আমাকে কখনও অমান্য করেনা  A: positive  G: negative\n",
            "1795  সে আমার কথা রাখল  A: positive  G: negative\n",
            "6627  আমি অসুস্থ হয়ে অনেক দূর্বল হয়ে গেছি  A: negative  G: positive\n",
            "132  আমি সব কিছু দেখিনা  A: negative  G: positive\n",
            "3386  সে দরিদ্র কিন্তু তার ব্যবহার সুন্দর  A: positive  G: negative\n",
            "642  সবার জীবনে দুঃখ থাকে  A: negative  G: positive\n",
            "3718  সে গরিবদের অসম্মান করে  A: negative  G: positive\n",
            "1775  এই খাবার কে করেছে একদম ভাল হয়নি  A: negative  G: positive\n",
            "7153  যেই কাজ করে সুখ পাওয়া যায় সেইটাই করা উচিৎ  A: positive  G: negative\n",
            "465  আমার কপালে ছোট ছোট খুশি থাকেনা  A: negative  G: positive\n",
            "2164  মরে গিয়ে কি ভুত হয়ে যাবে  A: negative  G: positive\n",
            "1850  তুমি সেখানে গিয়েছো  A: positive  G: negative\n",
            "3593  সে সবাই কে গালি দেয়  A: negative  G: positive\n",
            "1330  সে নিয়মিত আমার কাছে আসে  A: positive  G: negative\n",
            "1671  তাকে দিয়েছি কিন্তু সব দিতে পারিনাই  A: negative  G: positive\n",
            "4395  সে আনন্দ নষ্ট করে নি বরং বাড়িয়ে দিয়েছে  A: positive  G: negative\n",
            "773  কখনও সে আমাকে কষ্ট দেয় নাই  A: positive  G: negative\n",
            "3176  তুমি এসেছো তাতে আমি খুশি হইনি  A: negative  G: positive\n",
            "7289  তোদের নিয়েই চিন্তা করা হচ্ছে কি করা যায়  A: positive  G: negative\n",
            "318  তার সাথে কথা বলা যাবে  A: positive  G: negative\n",
            "6275  সে ঠিকই আমাকে অনেক ভালোবাসে কিন্তু কখনো বুঝতে দেয়না  A: positive  G: negative\n",
            "4647  তাকে সবকিছু দেই তাই তার মতো কেউ আনন্দিত না  A: positive  G: negative\n",
            "6555  রাতের বেলার অনুষ্ণ আবহাওয়া আনন্দ আরো বাড়িয়ে দিলো  A: positive  G: negative\n",
            "554  কেউ আমার জন্য দোয়া করে না  A: negative  G: positive\n",
            "7233  তুমি আমাকে সঠিক জবাব দেওনি  A: negative  G: positive\n",
            "2698  এই সংবাদ শুনে সে খুশি হবেনা  A: negative  G: positive\n",
            "6195  আমি আজ অত্যন্ত অবসাদগ্রস্ত  A: negative  G: positive\n",
            "7097  কষ্ট থেকেই ভাল কিছু পেয়েছি  A: positive  G: negative\n",
            "7192  এখানে কেউই মেরুদণ্ডহীন না  A: positive  G: negative\n",
            "1650  সে কি কি দিয়েছে তোমাকে  A: positive  G: negative\n",
            "879  তার ছাত্র জীবন ভাল যায়নি  A: negative  G: positive\n",
            "1181  আমার জন্য বিশেষ করে কি এনেছ  A: positive  G: negative\n",
            "4765  আমি তার এই ব্যপারে খুশি হয়েছি  A: positive  G: negative\n",
            "1056  সে কাজটি করতে পারতোনা  A: negative  G: positive\n",
            "1844  তার অনেক অহংকার  A: negative  G: positive\n",
            "2984  সে অন্যায় কিছু সহ্য করতে পারেনা  A: positive  G: negative\n",
            "509  সে আমাকে ভালবাসবেনা  A: negative  G: positive\n",
            "1335  পরের উন্নতি দেখে ভাল লাগে  A: positive  G: negative\n",
            "6961  প্রতিমুহূর্তে আমার শুধু তোমাকেই মনে পরে  A: positive  G: negative\n",
            "7263  তুমি কাউকে কষ্ট দেওনি বরং খুশি দিয়েছ  A: positive  G: negative\n",
            "2603  তার আচরণ ভালনা  A: negative  G: positive\n",
            "1199  কাজ দেখাও কতটুক হয়েছে  A: negative  G: positive\n",
            "1501  ছোটদের মানুষ করা কষ্ট বেশি  A: negative  G: positive\n",
            "41  আমি কারো খারাপ চাইনা  A: positive  G: negative\n",
            "2939  দোষীকে ক্ষমা করে দাও  A: positive  G: negative\n",
            "538  তুমি অনেকের খুশির কারণ  A: positive  G: negative\n",
            "87  আমি তাকে মারতে চাই  A: negative  G: positive\n",
            "472  সব ব্যাপার নিয়ে আগ্রহী হওয়া ভালোনা  A: negative  G: positive\n",
            "319  সে যাবেনা  A: negative  G: positive\n",
            "7177  তোমার কাছ থেকে কখনও কষ্ট পাইনি একবারও না  A: positive  G: negative\n",
            "2132  আমার অনেক কিছু মনে পরছে  A: positive  G: negative\n",
            "4645  সময় গুলো কষ্টে কেটে গেছে  A: negative  G: positive\n",
            "4163  সে একজন ভালোবাসার মত মানুষ  A: positive  G: negative\n",
            "3715  সে গরিবদের উপেক্ষা করে  A: negative  G: positive\n",
            "3317  সে সব সময় নিখুঁত কথা বলে  A: positive  G: negative\n",
            "7221  তুমি মানা করলে আমি যাবোনা সেখানে  A: positive  G: negative\n",
            "5799  আমার ভিষণ প্রয়োজন এর সময় আমি তাকে কাছে পেয়েছি  A: positive  G: negative\n",
            "5608  তিনি অসহায় মানুষদের দিকে নিগ্রহ করেন  A: negative  G: positive\n",
            "4128  সে এত ইতর মনের মানুষ  A: negative  G: positive\n",
            "6557  রাতের বেলার শৈত্য আবহাওয়া আনন্দ আরো বাড়িয়ে দিলো  A: positive  G: negative\n",
            "2859  তুমি খুশি হচ্ছো এবং আরো কাজ করতে চাও  A: positive  G: negative\n",
            "1703  আমার খেয়াল রাখতে পারছে  A: positive  G: negative\n",
            "3622  আমি তার অপরাধ লুকিয়ে রাখি  A: negative  G: positive\n",
            "4368  তাকে বিশ্বাস হয়না কারন তার রাগ অনেক বেশি  A: negative  G: positive\n",
            "2685  আমি সেখানে কাজটি করতে গেছি  A: positive  G: negative\n",
            "3903  তার চোখে মুখে আনন্দ প্রকাশ পেয়েছে  A: positive  G: negative\n",
            "6595  সে আমাকে সীমাহীন কষ্ট দিতে পেড়েছে  A: negative  G: positive\n",
            "4125  সে এত মন্দ মনের মানুষ  A: negative  G: positive\n",
            "2499  সে কিভাবে তোমার আপন হলো  A: negative  G: positive\n",
            "3165  সময় হলে তোমাকে ডাকব  A: positive  G: negative\n",
            "3258  সুখের সন্ধান পাওয়া সহজ নয়  A: negative  G: positive\n",
            "1322  চাইলে ঘুরে আসতে পারো  A: positive  G: negative\n",
            "3422  সে কথা গুলো ভালো ভাবে নেয় নি  A: negative  G: positive\n",
            "5553  সে অনেক জঘন্য অন্যায় করেছে আজ  A: negative  G: positive\n",
            "1869  আজকের জন্য সব শেষ  A: negative  G: positive\n",
            "7368  আমি এমন কিছু আগে দেখিনি আমাকে দেখতে দাও  A: positive  G: negative\n",
            "7118  আমার ভালোর চিন্তা তোমার করা লাগবেনা নিজের কাজ করো  A: negative  G: positive\n",
            "6994  আমি আমার চাকরি নিয়ে মোটেও খুশি না  A: negative  G: positive\n",
            "3043  যখন বলবা তখন তোমার জন্য সময় বের করে নিবো  A: positive  G: negative\n",
            "3567  অপহরণ করা খারাপ কাজ তাই সে কখনো করেনি  A: positive  G: negative\n",
            "3405  সে বেশিক্ষন নিজেকে রাগ করে রাখেনা  A: positive  G: negative\n",
            "2890  তাকে ভালবাসো নাকি ভালবাসোনা  A: positive  G: negative\n",
            "2942  যেভাবে করেই হোক দোষীকে শাস্তি পেতে হবে  A: negative  G: positive\n",
            "1891  আমাকে ভাল দেখাচ্ছেনা  A: negative  G: positive\n",
            "3612  তার কোনো বাজে প্রবৃত্তি নেই  A: positive  G: negative\n",
            "1385  তাকে তো পুরো মাথায় তুলে রেখেছ  A: positive  G: negative\n",
            "7277  জায়গাটা অনেক সুন্দর তুমি কিভাবে যাওনি এখনও  A: positive  G: negative\n",
            "2291  সে ভিত্তি ছাড়া কথা বলেনা  A: positive  G: negative\n",
            "7020  তোমার ভুলের মাশুল আমি দিবোনা  A: negative  G: positive\n",
            "2908  তুমি সুখে থাকবেনা তার সাথে  A: negative  G: positive\n",
            "3017  একদমই থাকতে পারবনা এখানে  A: negative  G: positive\n",
            "2399  নিয়মিত কাজ করলে কি সে খুশি হবে  A: negative  G: positive\n",
            "5072  সে ভালো খেলা পারেনা  A: negative  G: positive\n",
            "486  তোমার এতো ভালবাসা আমাকে পাগল করে দিচ্ছে  A: positive  G: negative\n",
            "3197  যতক্ষণ তুমি থাকবেনা ততক্ষণ আমি কষ্টে থাকব  A: negative  G: positive\n",
            "4981  এই পৃথিবী তে সে আমার কাছে কতটা আপন বলে বুঝাতে পারবোনা  A: positive  G: negative\n",
            "48  কাজটি একদম আমার মন মতো হয়েছে  A: positive  G: negative\n",
            "3554  আমি পড়াশোনা নিয়ে রাগ করিনা  A: positive  G: negative\n",
            "1022  তিনি সবসময় ভয়ংকর চেহারা করে থাকেন  A: negative  G: positive\n",
            "106  আমি কখনো সাগর দেখি নাই  A: positive  G: negative\n",
            "6151  স্মৃতি গুলো কষ্টের ছিলো  A: negative  G: positive\n",
            "1302  কতটুক কাজ হয়েছে দেখতে চাইলে কি বলব  A: negative  G: positive\n",
            "3614  তার কোনো বাজে বৈশিষ্ট্য নেই  A: positive  G: negative\n",
            "811  আমি গেলেও তার কোনো সাহায্য করতে পারবোনা  A: negative  G: positive\n",
            "1720  সারাদিন থাকতে পারবানা তো কি পারবা  A: negative  G: positive\n",
            "167  মানুষ সব করতে পারেনা  A: negative  G: positive\n",
            "1790  তুমি শুনছো আমার কথা  A: positive  G: negative\n",
            "5195  তার আনন্দ বহুগুনে বৃদ্ধি পেয়েছে সাগর দেখে  A: positive  G: negative\n",
            "996  যোগ্যতা থাকলে কি হবে কাজ পাওয়া সহজ না  A: negative  G: positive\n",
            "2941  দোষীকে ছেড়ে দেয়া হলো সে কোনো শাস্তি পেলোনা  A: negative  G: positive\n",
            "2592  সে কষ্টের চূড়ায় আছে  A: negative  G: positive\n",
            "7174  একবারও আমি তোমাদের কথা ভুলতে পারিনি  A: positive  G: negative\n",
            "742  চাইলাম আর জিনিসটা সে আমাকে দিয়ে দিলো  A: positive  G: negative\n",
            "6550  সন্ধ্যা বেলার শীতল বাতাস আনন্দ আরো বাড়িয়ে দিলো  A: positive  G: negative\n",
            "2142  ভাঙা মন নিয়ে আমার কাছে আসো  A: positive  G: negative\n",
            "737  শুধুমাত্র ভালবাসা দাও আর কিছু লাগবেনা  A: positive  G: negative\n",
            "1263  দায়িত্ব নিতে পারবেনা  A: negative  G: positive\n",
            "683  তোমাকে দেখার কোনো শেষ নাই  A: positive  G: negative\n",
            "179  সবার আদর পাওয়া কষ্টের  A: negative  G: positive\n",
            "4480  কষ্ট গুলো গোপন করে লুকিয়ে রাখি সর্বদা  A: negative  G: positive\n",
            "1103  কয়েকজন মিলে করলে কাজটি আগাবে  A: positive  G: negative\n",
            "2748  জলদি ছাড়িয়ে আনতে না পারলে কি হবে  A: negative  G: positive\n",
            "736  দাও তো আমার কাছে দেখবো জিনিসটা কি  A: positive  G: negative\n",
            "3101  তার কতো ক্ষমতা তুমি সেটা জানোনা  A: negative  G: positive\n",
            "1163  সে প্রকাশ করে দিয়েছে  A: positive  G: negative\n",
            "3322  সে সব সময় ন্যায়সঙ্গত কথা বলে  A: positive  G: negative\n",
            "5025  নিজেকে আজ এতখানি সুখি আর আনন্দিত মনে হচ্ছে  A: positive  G: negative\n",
            "80  আমি কাউকে মারতে চাইনা  A: positive  G: negative\n",
            "7163  সবকিছুর জন্য তোমাকে বলতে পারবনা  A: negative  G: positive\n",
            "7207  কোনোভাবেই তাকে খুশি করতে পারছিনা তাও আমি চেষ্টা করে যাবো  A: positive  G: negative\n",
            "6552  রাতের বেলার ঠান্ডা আবহাওয়া আনন্দ আরো বাড়িয়ে দিলো  A: positive  G: negative\n",
            "1297  তাকে অনেক মনে পরছে কয়েকদিন দেখিনা  A: positive  G: negative\n",
            "786  সে ভাবে তাই জীবনে অনেক কিছু পেয়ে যাচ্ছে  A: positive  G: negative\n",
            "1569  কতকিছু করেছি তাও এখন সব ভুলে গেলে  A: negative  G: positive\n",
            "2436  আমি অনেক কাঁদি  A: negative  G: positive\n",
            "3961  সে মানুষ হিসেবে অনেক রাগান্বিত  A: negative  G: positive\n",
            "3717  সে গরিবদের অযত্ন করে  A: negative  G: positive\n",
            "4486  তার রাগ সব আনন্দের শেষ করে দিয়েছে  A: negative  G: positive\n",
            "789  আমি সব ভুলে যাই  A: negative  G: positive\n",
            "3443  তার ভালো কথা কষ্ট গুলো কমিয়ে দিয়েছে  A: positive  G: negative\n",
            "6599  সে আমাকে প্রভূত কষ্ট দিতে পেড়েছে  A: negative  G: positive\n",
            "1074  তিনি সেখানে গেলেন শুধুমাত্র তোমার কথায়  A: positive  G: negative\n",
            "2944  শাস্তি দিতেনা আদর করে বুঝাতে হবে  A: positive  G: negative\n",
            "2647  একটি কাজ শেষ করতে পারলেনা  A: negative  G: positive\n",
            "469  আমি তোমার ব্যাপার নিয়ে আগ্রহী না  A: negative  G: positive\n",
            "3002  এতো কাজ করলে তুমি ক্লান্ত হয়ে যাবে  A: negative  G: positive\n",
            "4947  তার জীবনে অনেক কষ্ট  A: negative  G: positive\n",
            "5802  আমার ভিষণ জরুরৎ এর সময় আমি তাকে কাছে পেয়েছি  A: positive  G: negative\n",
            "4078  নিজের বাজে ফলাফল নিয়ে ভয় পেয়েছি  A: positive  G: negative\n",
            "1964  যা চাইছো দিতে পারবনা  A: negative  G: positive\n",
            "3058  সবকিছু আগের আছে যেভাবে আমি রেখে গিয়েছিলাম  A: positive  G: negative\n",
            "2653  তুমি এখানে আসাতে এমন হয়েছে সব তোমার কারণে হয়েছে  A: negative  G: positive\n",
            "1370  আরেকটা দাওয়াত পেয়েছি  A: positive  G: negative\n",
            "96  নাই বলে কিছু নাই কাজ করব  A: positive  G: negative\n",
            "156  ভালবাসতে চাই কেনো  A: positive  G: negative\n",
            "1758  সে কখনও ধরা পড়বেনা  A: positive  G: negative\n",
            "425  আমি এতো দিনে বুঝলাম আমাকে কি করতে হবে  A: positive  G: negative\n",
            "2699  সংবাদ ভাল হওয়া লাগবে বাকিটা বুঝে নাও  A: negative  G: positive\n",
            "3954  সে মানুষ কে তার গুপ্ত কথা নিয়ে আগ্রহ দিয়েছে  A: positive  G: negative\n",
            "4872  সে বুঝেনা আমাদের কতটা কষ্ট  A: negative  G: positive\n",
            "1954  আমি মোটেও কষ্ট পাই নাই  A: positive  G: negative\n",
            "6093  তার দেয়া কষ্ট গুলো আজও ঠিক অক্ষুন্ন আছে  A: negative  G: positive\n",
            "764  কয়েকজন প্রবেশ করতে পারেনাই  A: negative  G: positive\n",
            "2903  তাকে সবাই ভয়ের মধ্যে রেখেছে  A: negative  G: positive\n",
            "334  সে ভালো মন্দ বুঝেনা  A: negative  G: positive\n",
            "2299  তোমার কথার মাঝে ভালবাসা খুঁজে পাই  A: positive  G: negative\n",
            "2131  সে কি রাখছে আমি জানতে চাইনা  A: negative  G: positive\n",
            "23  তিনি আমাকে ভালবাসেনা  A: negative  G: positive\n",
            "445  আমার মনে কোনো দুঃখ নাই  A: positive  G: negative\n",
            "3213  আমার মন আজকে অনেক খারাপ  A: negative  G: positive\n",
            "3668  সে পাপ করা থেকে নিজেকে বিরত রেখেছে  A: positive  G: negative\n",
            "518  ভালবাসা হলে বুঝবে  A: positive  G: negative\n",
            "2316  আমি তাকে একদম বুঝিনা  A: negative  G: positive\n",
            "3050  অল্প হলেও কিছুটা সুখ নিয়ে আসছো তুমি আমার জীবনে  A: positive  G: negative\n",
            "58  আমি আছি তোমার মনে  A: positive  G: negative\n",
            "5606  তিনি অসহায় মানুষদের উপরে জুলুম করেন  A: negative  G: positive\n",
            "1383  সারাদিন আমার মাথায় খালি তোমার চিন্তা ঘুরে  A: positive  G: negative\n",
            "1372  সব ঠিক হোক  A: negative  G: positive\n",
            "2471  সৌভাগ্য ভাল হলেই কি সব হয়ে যায়  A: negative  G: positive\n",
            "4147  এমন ভালোবাসা হতে পারেনা  A: positive  G: negative\n",
            "6553  রাতের বেলার তুষার শীতল আবহাওয়া আনন্দ আরো বাড়িয়ে দিলো  A: positive  G: negative\n",
            "3139  তোমার কাজ এইবার একদমই ভাল হয়নাই কবে ঠিক করবা  A: negative  G: positive\n",
            "7288  আমি যেখানে যাই তাকে নিয়েই যাবো  A: positive  G: negative\n",
            "4707  আমি আজ আনন্দিত নই  A: negative  G: positive\n",
            "1097  আমি চারপাশে শুধু অন্ধকার দেখছি  A: negative  G: positive\n",
            "4655  সে কোনো প্রকার কাজ ঘৃণা করেনা বরং আনন্দ পায়  A: positive  G: negative\n",
            "3616  তার কোনো বাজে উত্কর্ষ নেই  A: positive  G: negative\n",
            "3520  সে কখনো চুরি করে নি  A: positive  G: negative\n",
            "1244  সে কাজের লোক তাকে যেতে দিওনা  A: positive  G: negative\n",
            "1616  তুমি তোমার কক্ষে কি করছ  A: positive  G: negative\n",
            "198  আমি জায়গাটি ভূতের মতো ভয় পাই কিন্তু ভাল লাগে  A: positive  G: negative\n",
            "2827  তার উপদেশ শুনে তুমি খুশি হবেনা  A: negative  G: positive\n",
            "7264  তুমি তাকে সব বলে দেওনি তো  A: negative  G: positive\n",
            "4325  সে গরিবের প্রতি খারাপ ব্যবহার করেনা  A: positive  G: negative\n",
            "2531  এখানে মজার কি খুঁজে পেলে  A: negative  G: positive\n",
            "5057  সে ভালো কারন সে কারো সাথে মারামারি কাটাকাটি করেনা  A: positive  G: negative\n",
            "3250  সে খুব সুন্দর করে কথা বলে খুব আনন্দ পেয়েছে  A: positive  G: negative\n",
            "620  কিছুতে তাকে ভুলতে পারছিনা  A: positive  G: negative\n",
            "1811  সে সাথে চললে ভাল লাগেনা  A: negative  G: positive\n",
            "1328  সে যখন তখন চলে আসে  A: negative  G: positive\n",
            "2119  আজ দিন ভাল কাটবেনা  A: negative  G: positive\n",
            "1945  সবকিছুতে নতুন কিছু খুঁজে পাও তুমি  A: positive  G: negative\n",
            "7450  সে কি আমার প্রতি আশাহত হয়েছে  A: negative  G: positive\n",
            "4728  সে নিজের ভূখণ্ড কে ভালোবাসেনা  A: negative  G: positive\n",
            "7276  তুমি তার সাথে যাওনি বলে খুশি হয়েছি  A: positive  G: negative\n",
            "3757  সে সকল কে মিথ্যা বলেছে  A: negative  G: positive\n",
            "3583  সে মানুষকে ঠকায় না  A: positive  G: negative\n",
            "2846  সে নিয়মিত তাকে বাহিরে ঘুরতে নিয়ে যায়  A: positive  G: negative\n",
            "1536  যেকোনো উপায়ে তোমাকে ভুলতে পারবনা  A: positive  G: negative\n",
            "4314  টাকা গুলো সে খারাপ কাজ করে শেষ করে  A: negative  G: positive\n",
            "2826  সে খুব ভাল উপদেশ দেয়  A: positive  G: negative\n",
            "346  কাজটি ঠিক করে করো নয়তো ভাল হবেনা  A: negative  G: positive\n",
            "3035  সে তার সাথে ছিলো চিন্তা করার কোনো কারণ নেই  A: positive  G: negative\n",
            "6594  সে আমাকে অসীম কষ্ট দিতে পেড়েছে  A: negative  G: positive\n",
            "3563  তার মতো অসাধারন মানুষ খুব কম দেখেছি  A: positive  G: negative\n",
            "7046  আমি তোমার উপর রাগতে চাইনা  A: positive  G: negative\n",
            "322  নিষ্ঠুর হওয়া ঠিকনা  A: positive  G: negative\n",
            "3016  সবসময় সুখে রাখতে চাই একদমই কষ্ট দিতে চাইনা  A: positive  G: negative\n",
            "1665  তুমি কি দিয়েছো আমাকে বলো  A: positive  G: negative\n",
            "2189  তুমি তোমার ভয়ের মোকাবেলা করতে পারবে  A: negative  G: positive\n",
            "2689  বুঝলে সে তোমাকে কি পরিমান ভালবাসে  A: positive  G: negative\n",
            "4127  সে এত অপকৃষ্ট মনের মানুষ  A: negative  G: positive\n",
            "3528  সে কবি রূপে খারাপ না  A: positive  G: negative\n",
            "3494  তার কোনো ভালো আচার দেখিনি  A: negative  G: positive\n",
            "265  তাকে ভয় দিতে পারব  A: negative  G: positive\n",
            "14  তিনি কারো খারাপ চাননা  A: positive  G: negative\n",
            "2684  ভালবাসা পাওয়ার জন্য তার কাছে গেছি  A: positive  G: negative\n",
            "5609  তিনি অসহায় মানুষদের উপর উপদ্রব করেন  A: negative  G: positive\n",
            "3194  প্রতিনিয়ত তার কথায় মুগ্ধ হচ্ছি  A: positive  G: negative\n",
            "1090  একবার অনুরোধ করে দেখ কি হয়  A: positive  G: negative\n",
            "2517  আমি মরতে চাইনা  A: positive  G: negative\n",
            "1886  কেউ তাদের মিলিয়ে দিতে পারবেনা  A: negative  G: positive\n",
            "7169  যে কাজই করিনা কেনো আমার শুধু তোমার কথা মনে পড়ে  A: positive  G: negative\n",
            "6718  কষ্টের সীমা দিন দিন বেড়ে যাচ্ছে  A: negative  G: positive\n",
            "432  মন্দ কাজ করে কতো দিন বেঁচে থাকবা  A: negative  G: positive\n",
            "2354  যখন সে আসে আমার অনেক ভাল লাগে  A: positive  G: negative\n",
            "1108  নিয়ম মেনে চললে কি সব ঠিক হবে  A: negative  G: positive\n",
            "4927  তার জন্য অনেক কষ্ট হবে  A: negative  G: positive\n",
            "2303  কাজ করো নয়তো ফল পাবেনা  A: positive  G: negative\n",
            "1158  কাজটি করে রেখো আজকের মধ্যে  A: negative  G: positive\n",
            "7085  তাকে রাগালে সে ভয়ংকর আচরণ করে  A: negative  G: positive\n",
            "1894  কতোদিন দেখিনা তাকে  A: negative  G: positive\n",
            "3095  সে অনেক সুন্দর রূপ ধারণ করতে পারে  A: positive  G: negative\n",
            "904  কোনো ব্যাপারে কোনো বাঁধা নাই  A: positive  G: negative\n",
            "3615  তার কোনো বাজে আচার নেই  A: positive  G: negative\n",
            "2887  আমি তোমার কাজে খুশি হচ্ছিনা  A: negative  G: positive\n",
            "2818  সে কিভাবে এখানে আসলো  A: negative  G: positive\n",
            "254  তিনি তাকে চান  A: negative  G: positive\n",
            "3667  সে কখনো মিথ্যা কথা বলেনা  A: positive  G: negative\n",
            "3560  খাবার গুলো নষ্ট হয়ে গেছে  A: negative  G: positive\n",
            "267  তাকে সুখ দিতে পারব না  A: negative  G: positive\n",
            "6626  তিনি আমাকে ভয় দেখিয়েছেন তাই আমি দূর্বল হয়ে গেছি  A: negative  G: positive\n",
            "1452  ভাল কৃত কর্ম ফল ভাল হয়  A: positive  G: negative\n",
            "291  তার উপর কেউ নাই কাজটি হবে  A: positive  G: negative\n",
            "2572  আমি কি তাকে কিছু জানাতে পারবোনা  A: negative  G: positive\n",
            "1480  শুনতে চাই তারা কি বলে  A: positive  G: negative\n",
            "2302  তোমার কথার ভিত্তি কোথায়  A: negative  G: positive\n",
            "2155  আমি কি ঠিক হয়েছি বলো আমাকে  A: positive  G: negative\n",
            "216  সবাই সুখে থাকতে পারেনা  A: negative  G: positive\n",
            "505  আমি বাঁচতে চাই না  A: negative  G: positive\n",
            "7186  ঝুঁকিপূর্ণ কাজ করতে পারবনা  A: negative  G: positive\n",
            "2389  সে আমার মনে ভীতি আনেনা  A: positive  G: negative\n",
            "4483  সে এমন মানুষ যার কথা মানুষ সব সময় মনে করে  A: positive  G: negative\n",
            "5306  সে আজ তার বন্ধুর সাথে অনেক বেশি রাগারাগি করেছে  A: negative  G: positive\n",
            "6984  দিনগুলার মাঝে সুখ খুঁজে পাই  A: positive  G: negative\n",
            "6033  সে খুন করেছে তাই সবাই তার প্রতি ক্ষেপে আছে  A: negative  G: positive\n",
            "2728  সে সকল প্রমান নিয়ে এসেছে  A: positive  G: negative\n",
            "2678  সে তোমাকে হারিয়ে ফেলার ভয়ে আছে  A: positive  G: negative\n",
            "259  সবার মধ্যে তার বলা কথা ভাল লাগে  A: positive  G: negative\n",
            "1832  অন্য কিছু করতে হবেনা আগে নিজের কাজ শেষ করো  A: negative  G: positive\n",
            "7285  যারা কি শুনছে যে এমন আচরণ করছে  A: negative  G: positive\n",
            "3539  সে কারো সাথে হিংসা করেনা  A: positive  G: negative\n",
            "3328  সে সব সময় উপযুক্ত কথা বলে  A: positive  G: negative\n",
            "410  তুমি অনেক আগ্রহী কাজ করতে পাচ্ছো  A: positive  G: negative\n",
            "6593  সে আমাকে অনেক কষ্ট দিতে পেড়েছে  A: negative  G: positive\n",
            "Total wrong result given: 287\n"
          ],
          "name": "stdout"
        }
      ]
    },
    {
      "cell_type": "code",
      "metadata": {
        "id": "YAK4yZhWZl-W"
      },
      "source": [
        "def plot_confusion_matrix(cm, labels, normalize = False, title = \"Confusion Matrix\", cmap = plt.cm.Blues):\n",
        "  \"\"\"\n",
        "  This function prints and plots the confusion matrix\n",
        "  Normalization can be applied by setting 'normalize=True'\n",
        "  \"\"\"\n",
        "\n",
        "  plt.imshow(cm, interpolation=\"nearest\", cmap=cmap)\n",
        "  plt.title(title)\n",
        "  plt.colorbar()\n",
        "  tick_marks = np.arange(len(labels))\n",
        "  plt.xticks(tick_marks, labels, rotation = 0)\n",
        "  plt.yticks(tick_marks, labels)\n",
        "\n",
        "  if normalize:\n",
        "    cm = cm.astype('float') / cm.sum(axis==1)[:, np.netwaxis]\n",
        "    print(\"Normalized Confusion Matrix\")\n",
        "  else:\n",
        "    print(\"Confusion Matrix, Without Normalization\")\n",
        "\n",
        "  print(cm)\n",
        "\n",
        "  thresh = cm.max() / 2.\n",
        "\n",
        "  for i, j in itertools.product(range(cm.shape[0]), range(cm.shape[1])):\n",
        "    plt.text(j, i, cm[i, j],\n",
        "             horizontalalignment = \"center\",\n",
        "             color = \"white\" if cm[i, j] > thresh else \"black\")\n",
        "\n",
        "  plt.tight_layout()\n",
        "  plt.ylabel(\"True label\")\n",
        "  plt.xlabel(\"Predicted label\")"
      ],
      "execution_count": null,
      "outputs": []
    },
    {
      "cell_type": "code",
      "metadata": {
        "id": "R_PdzZ-XZqZl",
        "outputId": "02c5d576-db4b-4bc9-b1bb-e5d9b3f5e3a4",
        "colab": {
          "base_uri": "https://localhost:8080/",
          "height": 362
        }
      },
      "source": [
        "cm = confusion_matrix(df_test['target'], new_class_label, labels=[\"positive\", \"negative\"])\n",
        "cm_plot_labels = [\"positive\", \"negative\"]\n",
        "\n",
        "plot_confusion_matrix(cm, cm_plot_labels, title=\"Confusion MAtrix\")"
      ],
      "execution_count": null,
      "outputs": [
        {
          "output_type": "stream",
          "text": [
            "Confusion Matrix, Without Normalization\n",
            "[[600 153]\n",
            " [134 604]]\n"
          ],
          "name": "stdout"
        },
        {
          "output_type": "display_data",
          "data": {
            "image/png": "[encoded data removed]",
            "text/plain": [
              "<Figure size 432x288 with 2 Axes>"
            ]
          },
          "metadata": {
            "tags": []
          }
        }
      ]
    },
    {
      "cell_type": "code",
      "metadata": {
        "id": "9DpW2WWcZunQ",
        "outputId": "4d6c9133-ab27-4361-daed-df419db6b8c3",
        "colab": {
          "base_uri": "https://localhost:8080/",
          "height": 170
        }
      },
      "source": [
        "detail_classification_report = classification_report(df_test['target'], new_class_label)\n",
        "print(detail_classification_report)"
      ],
      "execution_count": null,
      "outputs": [
        {
          "output_type": "stream",
          "text": [
            "              precision    recall  f1-score   support\n",
            "\n",
            "    negative       0.80      0.82      0.81       738\n",
            "    positive       0.82      0.80      0.81       753\n",
            "\n",
            "    accuracy                           0.81      1491\n",
            "   macro avg       0.81      0.81      0.81      1491\n",
            "weighted avg       0.81      0.81      0.81      1491\n",
            "\n"
          ],
          "name": "stdout"
        }
      ]
    },
    {
      "cell_type": "code",
      "metadata": {
        "id": "dC-Zo4inKNDp",
        "outputId": "2ce59123-124b-41fb-e7ef-9b98d1ac8eb1",
        "colab": {
          "base_uri": "https://localhost:8080/",
          "height": 68
        }
      },
      "source": [
        "predict_sg(\"অমিত স্যার আমাদের উপর রাগ করেছেন\")"
      ],
      "execution_count": null,
      "outputs": [
        {
          "output_type": "execute_result",
          "data": {
            "text/plain": [
              "{'elapsed_time': 0.24304676055908203,\n",
              " 'label': 'negative',\n",
              " 'score': 0.3085589110851288}"
            ]
          },
          "metadata": {
            "tags": []
          },
          "execution_count": 43
        }
      ]
    },
    {
      "cell_type": "code",
      "metadata": {
        "id": "LHwqha9DKRbo",
        "outputId": "906a2d03-e0e8-4057-a017-2dad747799fd",
        "colab": {
          "base_uri": "https://localhost:8080/",
          "height": 68
        }
      },
      "source": [
        "predict_sg(\"সে খুব নিষ্পাপ মানুষ তাই তাকে এত ভালোবাসি\")"
      ],
      "execution_count": null,
      "outputs": [
        {
          "output_type": "execute_result",
          "data": {
            "text/plain": [
              "{'elapsed_time': 0.24842309951782227,\n",
              " 'label': 'positive',\n",
              " 'score': 0.974915087223053}"
            ]
          },
          "metadata": {
            "tags": []
          },
          "execution_count": 44
        }
      ]
    },
    {
      "cell_type": "code",
      "metadata": {
        "id": "Zr4HU1siKt_n",
        "outputId": "ab834dbf-6959-4f63-ad1e-8c0407067631",
        "colab": {
          "base_uri": "https://localhost:8080/",
          "height": 68
        }
      },
      "source": [
        "predict_sg(\"আমি তাকে সব বলি সবসময়\")"
      ],
      "execution_count": null,
      "outputs": [
        {
          "output_type": "execute_result",
          "data": {
            "text/plain": [
              "{'elapsed_time': 0.23162150382995605,\n",
              " 'label': 'positive',\n",
              " 'score': 0.7172318696975708}"
            ]
          },
          "metadata": {
            "tags": []
          },
          "execution_count": 45
        }
      ]
    },
    {
      "cell_type": "code",
      "metadata": {
        "id": "Z8s-ezmHKxQ8",
        "outputId": "c0aca82f-741e-4e55-b2dc-74408eb775b1",
        "colab": {
          "base_uri": "https://localhost:8080/",
          "height": 68
        }
      },
      "source": [
        "predict_sg(\"তিনি কাজ করতে চান না\")"
      ],
      "execution_count": null,
      "outputs": [
        {
          "output_type": "execute_result",
          "data": {
            "text/plain": [
              "{'elapsed_time': 0.2643318176269531,\n",
              " 'label': 'negative',\n",
              " 'score': 0.4085671007633209}"
            ]
          },
          "metadata": {
            "tags": []
          },
          "execution_count": 46
        }
      ]
    },
    {
      "cell_type": "code",
      "metadata": {
        "id": "UTW-NVMOK1KC",
        "outputId": "ce3bf967-e5a4-4f7d-ebcd-347dc44e85e7",
        "colab": {
          "base_uri": "https://localhost:8080/",
          "height": 68
        }
      },
      "source": [
        "predict_sg(\"তিনি কাজ করতে চান\")"
      ],
      "execution_count": null,
      "outputs": [
        {
          "output_type": "execute_result",
          "data": {
            "text/plain": [
              "{'elapsed_time': 0.2763974666595459,\n",
              " 'label': 'positive',\n",
              " 'score': 0.5249828100204468}"
            ]
          },
          "metadata": {
            "tags": []
          },
          "execution_count": 47
        }
      ]
    },
    {
      "cell_type": "code",
      "metadata": {
        "id": "NQnu0Ml0K5LM",
        "outputId": "aed4dcbb-4732-479e-b84b-58131d983be0",
        "colab": {
          "base_uri": "https://localhost:8080/",
          "height": 68
        }
      },
      "source": [
        "predict_sg(\"সবাই তাকে ভাল পায় না\")"
      ],
      "execution_count": null,
      "outputs": [
        {
          "output_type": "execute_result",
          "data": {
            "text/plain": [
              "{'elapsed_time': 0.25525856018066406,\n",
              " 'label': 'positive',\n",
              " 'score': 0.5180718898773193}"
            ]
          },
          "metadata": {
            "tags": []
          },
          "execution_count": 48
        }
      ]
    },
    {
      "cell_type": "code",
      "metadata": {
        "id": "p8imw4dhLD9e",
        "outputId": "225d3d90-e646-49c2-df92-f48cfd98e48f",
        "colab": {
          "base_uri": "https://localhost:8080/",
          "height": 68
        }
      },
      "source": [
        "predict_sg(\"সে খারাপ ছেলে\")"
      ],
      "execution_count": null,
      "outputs": [
        {
          "output_type": "execute_result",
          "data": {
            "text/plain": [
              "{'elapsed_time': 0.2723567485809326,\n",
              " 'label': 'negative',\n",
              " 'score': 0.31728923320770264}"
            ]
          },
          "metadata": {
            "tags": []
          },
          "execution_count": 49
        }
      ]
    },
    {
      "cell_type": "code",
      "metadata": {
        "id": "HmmspFasLaau",
        "outputId": "4707f2e1-e481-40a0-b144-a24f18d51052",
        "colab": {
          "base_uri": "https://localhost:8080/",
          "height": 68
        }
      },
      "source": [
        "predict_sg(\"ভালো\")"
      ],
      "execution_count": null,
      "outputs": [
        {
          "output_type": "execute_result",
          "data": {
            "text/plain": [
              "{'elapsed_time': 0.2474818229675293,\n",
              " 'label': 'positive',\n",
              " 'score': 0.7358874082565308}"
            ]
          },
          "metadata": {
            "tags": []
          },
          "execution_count": 50
        }
      ]
    },
    {
      "cell_type": "code",
      "metadata": {
        "id": "Ll2MeH5WLg9s",
        "outputId": "95cc478c-dd34-40bd-ba6d-69b8477ed0a2",
        "colab": {
          "base_uri": "https://localhost:8080/",
          "height": 68
        }
      },
      "source": [
        "predict_sg(\"না\")"
      ],
      "execution_count": null,
      "outputs": [
        {
          "output_type": "execute_result",
          "data": {
            "text/plain": [
              "{'elapsed_time': 0.27509284019470215,\n",
              " 'label': 'negative',\n",
              " 'score': 0.43521648645401}"
            ]
          },
          "metadata": {
            "tags": []
          },
          "execution_count": 51
        }
      ]
    },
    {
      "cell_type": "code",
      "metadata": {
        "id": "y65P_vHyL-pe",
        "outputId": "3f58c76b-bb68-4124-ac7e-0d081fc269f2",
        "colab": {
          "base_uri": "https://localhost:8080/",
          "height": 68
        }
      },
      "source": [
        "predict_sg(\"সে ভালো না\")"
      ],
      "execution_count": null,
      "outputs": [
        {
          "output_type": "execute_result",
          "data": {
            "text/plain": [
              "{'elapsed_time': 0.23845601081848145,\n",
              " 'label': 'positive',\n",
              " 'score': 0.6685115098953247}"
            ]
          },
          "metadata": {
            "tags": []
          },
          "execution_count": 52
        }
      ]
    },
    {
      "cell_type": "code",
      "metadata": {
        "id": "PpJtCAQ-LRk2",
        "outputId": "ba0dc3dd-08b1-4274-d020-903a49711561",
        "colab": {
          "base_uri": "https://localhost:8080/",
          "height": 68
        }
      },
      "source": [
        "predict_sg(\"সে আমাকে খুব পছন্দ করে\")"
      ],
      "execution_count": null,
      "outputs": [
        {
          "output_type": "execute_result",
          "data": {
            "text/plain": [
              "{'elapsed_time': 0.28400492668151855,\n",
              " 'label': 'positive',\n",
              " 'score': 0.5876883864402771}"
            ]
          },
          "metadata": {
            "tags": []
          },
          "execution_count": 53
        }
      ]
    },
    {
      "cell_type": "code",
      "metadata": {
        "id": "4ke7i45qSNMf",
        "outputId": "315b8c9c-0630-42a4-db45-0e02c0a95d66",
        "colab": {
          "base_uri": "https://localhost:8080/",
          "height": 68
        }
      },
      "source": [
        "predict_sg(\"তিনি তাকে চান\")"
      ],
      "execution_count": null,
      "outputs": [
        {
          "output_type": "execute_result",
          "data": {
            "text/plain": [
              "{'elapsed_time': 0.26579809188842773,\n",
              " 'label': 'positive',\n",
              " 'score': 0.5873098969459534}"
            ]
          },
          "metadata": {
            "tags": []
          },
          "execution_count": 54
        }
      ]
    },
    {
      "cell_type": "code",
      "metadata": {
        "id": "p9Z5f3NjVPpw"
      },
      "source": [],
      "execution_count": null,
      "outputs": []
    },
    {
      "cell_type": "code",
      "metadata": {
        "id": "OoHR4wrAW9bM"
      },
      "source": [
        "\n"
      ],
      "execution_count": null,
      "outputs": []
    },
    {
      "cell_type": "markdown",
      "metadata": {
        "id": "fOMidRpoY7nH"
      },
      "source": [
        "Precision\n",
        "Precision attempts to answer the following question:\n",
        "\n",
        "What proportion of positive identifications was actually correct?\n",
        "\n"
      ]
    }
  ]
}